{
  "nbformat": 4,
  "nbformat_minor": 0,
  "metadata": {
    "colab": {
      "name": "Kmer-based Bert Masked Training.ipynb",
      "provenance": [],
      "collapsed_sections": []
    },
    "kernelspec": {
      "name": "python3",
      "display_name": "Python 3"
    },
    "widgets": {
      "application/vnd.jupyter.widget-state+json": {
        "c52fbb3a381541ba88cb4de6982d37d6": {
          "model_module": "@jupyter-widgets/controls",
          "model_name": "HBoxModel",
          "state": {
            "_view_name": "HBoxView",
            "_dom_classes": [],
            "_model_name": "HBoxModel",
            "_view_module": "@jupyter-widgets/controls",
            "_model_module_version": "1.5.0",
            "_view_count": null,
            "_view_module_version": "1.5.0",
            "box_style": "",
            "layout": "IPY_MODEL_0a686acfddda4459a6aa200d72d2acec",
            "_model_module": "@jupyter-widgets/controls",
            "children": [
              "IPY_MODEL_39efe3afb8854c8fac57abca54736e49",
              "IPY_MODEL_8ec7c386995e4f218d05c178604f5047"
            ]
          }
        },
        "0a686acfddda4459a6aa200d72d2acec": {
          "model_module": "@jupyter-widgets/base",
          "model_name": "LayoutModel",
          "state": {
            "_view_name": "LayoutView",
            "grid_template_rows": null,
            "right": null,
            "justify_content": null,
            "_view_module": "@jupyter-widgets/base",
            "overflow": null,
            "_model_module_version": "1.2.0",
            "_view_count": null,
            "flex_flow": null,
            "width": null,
            "min_width": null,
            "border": null,
            "align_items": null,
            "bottom": null,
            "_model_module": "@jupyter-widgets/base",
            "top": null,
            "grid_column": null,
            "overflow_y": null,
            "overflow_x": null,
            "grid_auto_flow": null,
            "grid_area": null,
            "grid_template_columns": null,
            "flex": null,
            "_model_name": "LayoutModel",
            "justify_items": null,
            "grid_row": null,
            "max_height": null,
            "align_content": null,
            "visibility": null,
            "align_self": null,
            "height": null,
            "min_height": null,
            "padding": null,
            "grid_auto_rows": null,
            "grid_gap": null,
            "max_width": null,
            "order": null,
            "_view_module_version": "1.2.0",
            "grid_template_areas": null,
            "object_position": null,
            "object_fit": null,
            "grid_auto_columns": null,
            "margin": null,
            "display": null,
            "left": null
          }
        },
        "39efe3afb8854c8fac57abca54736e49": {
          "model_module": "@jupyter-widgets/controls",
          "model_name": "FloatProgressModel",
          "state": {
            "_view_name": "ProgressView",
            "style": "IPY_MODEL_7e994ea010884d459a2f2192ab87d43d",
            "_dom_classes": [],
            "description": "Epoch: 100%",
            "_model_name": "FloatProgressModel",
            "bar_style": "success",
            "max": 3,
            "_view_module": "@jupyter-widgets/controls",
            "_model_module_version": "1.5.0",
            "value": 3,
            "_view_count": null,
            "_view_module_version": "1.5.0",
            "orientation": "horizontal",
            "min": 0,
            "description_tooltip": null,
            "_model_module": "@jupyter-widgets/controls",
            "layout": "IPY_MODEL_d7e1e8949ace44588a778af0de885eb0"
          }
        },
        "8ec7c386995e4f218d05c178604f5047": {
          "model_module": "@jupyter-widgets/controls",
          "model_name": "HTMLModel",
          "state": {
            "_view_name": "HTMLView",
            "style": "IPY_MODEL_8a1ecb43de0642529983255eb3166d50",
            "_dom_classes": [],
            "description": "",
            "_model_name": "HTMLModel",
            "placeholder": "​",
            "_view_module": "@jupyter-widgets/controls",
            "_model_module_version": "1.5.0",
            "value": " 3/3 [4:28:45&lt;00:00, 5375.07s/it]",
            "_view_count": null,
            "_view_module_version": "1.5.0",
            "description_tooltip": null,
            "_model_module": "@jupyter-widgets/controls",
            "layout": "IPY_MODEL_8d646dda53ce45e2b785e008a18cb0a6"
          }
        },
        "7e994ea010884d459a2f2192ab87d43d": {
          "model_module": "@jupyter-widgets/controls",
          "model_name": "ProgressStyleModel",
          "state": {
            "_view_name": "StyleView",
            "_model_name": "ProgressStyleModel",
            "description_width": "initial",
            "_view_module": "@jupyter-widgets/base",
            "_model_module_version": "1.5.0",
            "_view_count": null,
            "_view_module_version": "1.2.0",
            "bar_color": null,
            "_model_module": "@jupyter-widgets/controls"
          }
        },
        "d7e1e8949ace44588a778af0de885eb0": {
          "model_module": "@jupyter-widgets/base",
          "model_name": "LayoutModel",
          "state": {
            "_view_name": "LayoutView",
            "grid_template_rows": null,
            "right": null,
            "justify_content": null,
            "_view_module": "@jupyter-widgets/base",
            "overflow": null,
            "_model_module_version": "1.2.0",
            "_view_count": null,
            "flex_flow": null,
            "width": null,
            "min_width": null,
            "border": null,
            "align_items": null,
            "bottom": null,
            "_model_module": "@jupyter-widgets/base",
            "top": null,
            "grid_column": null,
            "overflow_y": null,
            "overflow_x": null,
            "grid_auto_flow": null,
            "grid_area": null,
            "grid_template_columns": null,
            "flex": null,
            "_model_name": "LayoutModel",
            "justify_items": null,
            "grid_row": null,
            "max_height": null,
            "align_content": null,
            "visibility": null,
            "align_self": null,
            "height": null,
            "min_height": null,
            "padding": null,
            "grid_auto_rows": null,
            "grid_gap": null,
            "max_width": null,
            "order": null,
            "_view_module_version": "1.2.0",
            "grid_template_areas": null,
            "object_position": null,
            "object_fit": null,
            "grid_auto_columns": null,
            "margin": null,
            "display": null,
            "left": null
          }
        },
        "8a1ecb43de0642529983255eb3166d50": {
          "model_module": "@jupyter-widgets/controls",
          "model_name": "DescriptionStyleModel",
          "state": {
            "_view_name": "StyleView",
            "_model_name": "DescriptionStyleModel",
            "description_width": "",
            "_view_module": "@jupyter-widgets/base",
            "_model_module_version": "1.5.0",
            "_view_count": null,
            "_view_module_version": "1.2.0",
            "_model_module": "@jupyter-widgets/controls"
          }
        },
        "8d646dda53ce45e2b785e008a18cb0a6": {
          "model_module": "@jupyter-widgets/base",
          "model_name": "LayoutModel",
          "state": {
            "_view_name": "LayoutView",
            "grid_template_rows": null,
            "right": null,
            "justify_content": null,
            "_view_module": "@jupyter-widgets/base",
            "overflow": null,
            "_model_module_version": "1.2.0",
            "_view_count": null,
            "flex_flow": null,
            "width": null,
            "min_width": null,
            "border": null,
            "align_items": null,
            "bottom": null,
            "_model_module": "@jupyter-widgets/base",
            "top": null,
            "grid_column": null,
            "overflow_y": null,
            "overflow_x": null,
            "grid_auto_flow": null,
            "grid_area": null,
            "grid_template_columns": null,
            "flex": null,
            "_model_name": "LayoutModel",
            "justify_items": null,
            "grid_row": null,
            "max_height": null,
            "align_content": null,
            "visibility": null,
            "align_self": null,
            "height": null,
            "min_height": null,
            "padding": null,
            "grid_auto_rows": null,
            "grid_gap": null,
            "max_width": null,
            "order": null,
            "_view_module_version": "1.2.0",
            "grid_template_areas": null,
            "object_position": null,
            "object_fit": null,
            "grid_auto_columns": null,
            "margin": null,
            "display": null,
            "left": null
          }
        },
        "8f5d0d73b6df49389cbdb33a08a75bdb": {
          "model_module": "@jupyter-widgets/controls",
          "model_name": "HBoxModel",
          "state": {
            "_view_name": "HBoxView",
            "_dom_classes": [],
            "_model_name": "HBoxModel",
            "_view_module": "@jupyter-widgets/controls",
            "_model_module_version": "1.5.0",
            "_view_count": null,
            "_view_module_version": "1.5.0",
            "box_style": "",
            "layout": "IPY_MODEL_b1ca2b4fca5042e4b5603a82d0c3a6c4",
            "_model_module": "@jupyter-widgets/controls",
            "children": [
              "IPY_MODEL_d4305079d4b740239c7e3678d32ca5b4",
              "IPY_MODEL_31267663bb464331b47b4975d219395f"
            ]
          }
        },
        "b1ca2b4fca5042e4b5603a82d0c3a6c4": {
          "model_module": "@jupyter-widgets/base",
          "model_name": "LayoutModel",
          "state": {
            "_view_name": "LayoutView",
            "grid_template_rows": null,
            "right": null,
            "justify_content": null,
            "_view_module": "@jupyter-widgets/base",
            "overflow": null,
            "_model_module_version": "1.2.0",
            "_view_count": null,
            "flex_flow": null,
            "width": null,
            "min_width": null,
            "border": null,
            "align_items": null,
            "bottom": null,
            "_model_module": "@jupyter-widgets/base",
            "top": null,
            "grid_column": null,
            "overflow_y": null,
            "overflow_x": null,
            "grid_auto_flow": null,
            "grid_area": null,
            "grid_template_columns": null,
            "flex": null,
            "_model_name": "LayoutModel",
            "justify_items": null,
            "grid_row": null,
            "max_height": null,
            "align_content": null,
            "visibility": null,
            "align_self": null,
            "height": null,
            "min_height": null,
            "padding": null,
            "grid_auto_rows": null,
            "grid_gap": null,
            "max_width": null,
            "order": null,
            "_view_module_version": "1.2.0",
            "grid_template_areas": null,
            "object_position": null,
            "object_fit": null,
            "grid_auto_columns": null,
            "margin": null,
            "display": null,
            "left": null
          }
        },
        "d4305079d4b740239c7e3678d32ca5b4": {
          "model_module": "@jupyter-widgets/controls",
          "model_name": "FloatProgressModel",
          "state": {
            "_view_name": "ProgressView",
            "style": "IPY_MODEL_332c29d5aef34d4b8f3a514bb4830310",
            "_dom_classes": [],
            "description": "Iteration: 100%",
            "_model_name": "FloatProgressModel",
            "bar_style": "success",
            "max": 10801,
            "_view_module": "@jupyter-widgets/controls",
            "_model_module_version": "1.5.0",
            "value": 10801,
            "_view_count": null,
            "_view_module_version": "1.5.0",
            "orientation": "horizontal",
            "min": 0,
            "description_tooltip": null,
            "_model_module": "@jupyter-widgets/controls",
            "layout": "IPY_MODEL_f2767623d0b94d76a9ce47ed58793a8c"
          }
        },
        "31267663bb464331b47b4975d219395f": {
          "model_module": "@jupyter-widgets/controls",
          "model_name": "HTMLModel",
          "state": {
            "_view_name": "HTMLView",
            "style": "IPY_MODEL_7eaa4f091e924ae69f915084f217dda0",
            "_dom_classes": [],
            "description": "",
            "_model_name": "HTMLModel",
            "placeholder": "​",
            "_view_module": "@jupyter-widgets/controls",
            "_model_module_version": "1.5.0",
            "value": " 10801/10801 [1:29:36&lt;00:00,  2.01it/s]",
            "_view_count": null,
            "_view_module_version": "1.5.0",
            "description_tooltip": null,
            "_model_module": "@jupyter-widgets/controls",
            "layout": "IPY_MODEL_79453649c1c84a2abfb05b7c4dc67812"
          }
        },
        "332c29d5aef34d4b8f3a514bb4830310": {
          "model_module": "@jupyter-widgets/controls",
          "model_name": "ProgressStyleModel",
          "state": {
            "_view_name": "StyleView",
            "_model_name": "ProgressStyleModel",
            "description_width": "initial",
            "_view_module": "@jupyter-widgets/base",
            "_model_module_version": "1.5.0",
            "_view_count": null,
            "_view_module_version": "1.2.0",
            "bar_color": null,
            "_model_module": "@jupyter-widgets/controls"
          }
        },
        "f2767623d0b94d76a9ce47ed58793a8c": {
          "model_module": "@jupyter-widgets/base",
          "model_name": "LayoutModel",
          "state": {
            "_view_name": "LayoutView",
            "grid_template_rows": null,
            "right": null,
            "justify_content": null,
            "_view_module": "@jupyter-widgets/base",
            "overflow": null,
            "_model_module_version": "1.2.0",
            "_view_count": null,
            "flex_flow": null,
            "width": null,
            "min_width": null,
            "border": null,
            "align_items": null,
            "bottom": null,
            "_model_module": "@jupyter-widgets/base",
            "top": null,
            "grid_column": null,
            "overflow_y": null,
            "overflow_x": null,
            "grid_auto_flow": null,
            "grid_area": null,
            "grid_template_columns": null,
            "flex": null,
            "_model_name": "LayoutModel",
            "justify_items": null,
            "grid_row": null,
            "max_height": null,
            "align_content": null,
            "visibility": null,
            "align_self": null,
            "height": null,
            "min_height": null,
            "padding": null,
            "grid_auto_rows": null,
            "grid_gap": null,
            "max_width": null,
            "order": null,
            "_view_module_version": "1.2.0",
            "grid_template_areas": null,
            "object_position": null,
            "object_fit": null,
            "grid_auto_columns": null,
            "margin": null,
            "display": null,
            "left": null
          }
        },
        "7eaa4f091e924ae69f915084f217dda0": {
          "model_module": "@jupyter-widgets/controls",
          "model_name": "DescriptionStyleModel",
          "state": {
            "_view_name": "StyleView",
            "_model_name": "DescriptionStyleModel",
            "description_width": "",
            "_view_module": "@jupyter-widgets/base",
            "_model_module_version": "1.5.0",
            "_view_count": null,
            "_view_module_version": "1.2.0",
            "_model_module": "@jupyter-widgets/controls"
          }
        },
        "79453649c1c84a2abfb05b7c4dc67812": {
          "model_module": "@jupyter-widgets/base",
          "model_name": "LayoutModel",
          "state": {
            "_view_name": "LayoutView",
            "grid_template_rows": null,
            "right": null,
            "justify_content": null,
            "_view_module": "@jupyter-widgets/base",
            "overflow": null,
            "_model_module_version": "1.2.0",
            "_view_count": null,
            "flex_flow": null,
            "width": null,
            "min_width": null,
            "border": null,
            "align_items": null,
            "bottom": null,
            "_model_module": "@jupyter-widgets/base",
            "top": null,
            "grid_column": null,
            "overflow_y": null,
            "overflow_x": null,
            "grid_auto_flow": null,
            "grid_area": null,
            "grid_template_columns": null,
            "flex": null,
            "_model_name": "LayoutModel",
            "justify_items": null,
            "grid_row": null,
            "max_height": null,
            "align_content": null,
            "visibility": null,
            "align_self": null,
            "height": null,
            "min_height": null,
            "padding": null,
            "grid_auto_rows": null,
            "grid_gap": null,
            "max_width": null,
            "order": null,
            "_view_module_version": "1.2.0",
            "grid_template_areas": null,
            "object_position": null,
            "object_fit": null,
            "grid_auto_columns": null,
            "margin": null,
            "display": null,
            "left": null
          }
        },
        "c8f71df1ac574859b171b751ed6d2dbd": {
          "model_module": "@jupyter-widgets/controls",
          "model_name": "HBoxModel",
          "state": {
            "_view_name": "HBoxView",
            "_dom_classes": [],
            "_model_name": "HBoxModel",
            "_view_module": "@jupyter-widgets/controls",
            "_model_module_version": "1.5.0",
            "_view_count": null,
            "_view_module_version": "1.5.0",
            "box_style": "",
            "layout": "IPY_MODEL_4d55620a5fe84edebb54138e894f34cf",
            "_model_module": "@jupyter-widgets/controls",
            "children": [
              "IPY_MODEL_369f3777a60f46c58ea977a05a88d230",
              "IPY_MODEL_f7d1ca946e34449ba741f3120c49c194"
            ]
          }
        },
        "4d55620a5fe84edebb54138e894f34cf": {
          "model_module": "@jupyter-widgets/base",
          "model_name": "LayoutModel",
          "state": {
            "_view_name": "LayoutView",
            "grid_template_rows": null,
            "right": null,
            "justify_content": null,
            "_view_module": "@jupyter-widgets/base",
            "overflow": null,
            "_model_module_version": "1.2.0",
            "_view_count": null,
            "flex_flow": null,
            "width": null,
            "min_width": null,
            "border": null,
            "align_items": null,
            "bottom": null,
            "_model_module": "@jupyter-widgets/base",
            "top": null,
            "grid_column": null,
            "overflow_y": null,
            "overflow_x": null,
            "grid_auto_flow": null,
            "grid_area": null,
            "grid_template_columns": null,
            "flex": null,
            "_model_name": "LayoutModel",
            "justify_items": null,
            "grid_row": null,
            "max_height": null,
            "align_content": null,
            "visibility": null,
            "align_self": null,
            "height": null,
            "min_height": null,
            "padding": null,
            "grid_auto_rows": null,
            "grid_gap": null,
            "max_width": null,
            "order": null,
            "_view_module_version": "1.2.0",
            "grid_template_areas": null,
            "object_position": null,
            "object_fit": null,
            "grid_auto_columns": null,
            "margin": null,
            "display": null,
            "left": null
          }
        },
        "369f3777a60f46c58ea977a05a88d230": {
          "model_module": "@jupyter-widgets/controls",
          "model_name": "FloatProgressModel",
          "state": {
            "_view_name": "ProgressView",
            "style": "IPY_MODEL_cde169cf4154433297142db0a1f87484",
            "_dom_classes": [],
            "description": "Iteration: 100%",
            "_model_name": "FloatProgressModel",
            "bar_style": "success",
            "max": 10801,
            "_view_module": "@jupyter-widgets/controls",
            "_model_module_version": "1.5.0",
            "value": 10801,
            "_view_count": null,
            "_view_module_version": "1.5.0",
            "orientation": "horizontal",
            "min": 0,
            "description_tooltip": null,
            "_model_module": "@jupyter-widgets/controls",
            "layout": "IPY_MODEL_7032347978a74d0aa6e5bc3285d84441"
          }
        },
        "f7d1ca946e34449ba741f3120c49c194": {
          "model_module": "@jupyter-widgets/controls",
          "model_name": "HTMLModel",
          "state": {
            "_view_name": "HTMLView",
            "style": "IPY_MODEL_cf4fdfeb034344adaf9bdea443299f0e",
            "_dom_classes": [],
            "description": "",
            "_model_name": "HTMLModel",
            "placeholder": "​",
            "_view_module": "@jupyter-widgets/controls",
            "_model_module_version": "1.5.0",
            "value": " 10801/10801 [1:29:28&lt;00:00,  2.01it/s]",
            "_view_count": null,
            "_view_module_version": "1.5.0",
            "description_tooltip": null,
            "_model_module": "@jupyter-widgets/controls",
            "layout": "IPY_MODEL_f371c30b58f44829be75a9bb96b55521"
          }
        },
        "cde169cf4154433297142db0a1f87484": {
          "model_module": "@jupyter-widgets/controls",
          "model_name": "ProgressStyleModel",
          "state": {
            "_view_name": "StyleView",
            "_model_name": "ProgressStyleModel",
            "description_width": "initial",
            "_view_module": "@jupyter-widgets/base",
            "_model_module_version": "1.5.0",
            "_view_count": null,
            "_view_module_version": "1.2.0",
            "bar_color": null,
            "_model_module": "@jupyter-widgets/controls"
          }
        },
        "7032347978a74d0aa6e5bc3285d84441": {
          "model_module": "@jupyter-widgets/base",
          "model_name": "LayoutModel",
          "state": {
            "_view_name": "LayoutView",
            "grid_template_rows": null,
            "right": null,
            "justify_content": null,
            "_view_module": "@jupyter-widgets/base",
            "overflow": null,
            "_model_module_version": "1.2.0",
            "_view_count": null,
            "flex_flow": null,
            "width": null,
            "min_width": null,
            "border": null,
            "align_items": null,
            "bottom": null,
            "_model_module": "@jupyter-widgets/base",
            "top": null,
            "grid_column": null,
            "overflow_y": null,
            "overflow_x": null,
            "grid_auto_flow": null,
            "grid_area": null,
            "grid_template_columns": null,
            "flex": null,
            "_model_name": "LayoutModel",
            "justify_items": null,
            "grid_row": null,
            "max_height": null,
            "align_content": null,
            "visibility": null,
            "align_self": null,
            "height": null,
            "min_height": null,
            "padding": null,
            "grid_auto_rows": null,
            "grid_gap": null,
            "max_width": null,
            "order": null,
            "_view_module_version": "1.2.0",
            "grid_template_areas": null,
            "object_position": null,
            "object_fit": null,
            "grid_auto_columns": null,
            "margin": null,
            "display": null,
            "left": null
          }
        },
        "cf4fdfeb034344adaf9bdea443299f0e": {
          "model_module": "@jupyter-widgets/controls",
          "model_name": "DescriptionStyleModel",
          "state": {
            "_view_name": "StyleView",
            "_model_name": "DescriptionStyleModel",
            "description_width": "",
            "_view_module": "@jupyter-widgets/base",
            "_model_module_version": "1.5.0",
            "_view_count": null,
            "_view_module_version": "1.2.0",
            "_model_module": "@jupyter-widgets/controls"
          }
        },
        "f371c30b58f44829be75a9bb96b55521": {
          "model_module": "@jupyter-widgets/base",
          "model_name": "LayoutModel",
          "state": {
            "_view_name": "LayoutView",
            "grid_template_rows": null,
            "right": null,
            "justify_content": null,
            "_view_module": "@jupyter-widgets/base",
            "overflow": null,
            "_model_module_version": "1.2.0",
            "_view_count": null,
            "flex_flow": null,
            "width": null,
            "min_width": null,
            "border": null,
            "align_items": null,
            "bottom": null,
            "_model_module": "@jupyter-widgets/base",
            "top": null,
            "grid_column": null,
            "overflow_y": null,
            "overflow_x": null,
            "grid_auto_flow": null,
            "grid_area": null,
            "grid_template_columns": null,
            "flex": null,
            "_model_name": "LayoutModel",
            "justify_items": null,
            "grid_row": null,
            "max_height": null,
            "align_content": null,
            "visibility": null,
            "align_self": null,
            "height": null,
            "min_height": null,
            "padding": null,
            "grid_auto_rows": null,
            "grid_gap": null,
            "max_width": null,
            "order": null,
            "_view_module_version": "1.2.0",
            "grid_template_areas": null,
            "object_position": null,
            "object_fit": null,
            "grid_auto_columns": null,
            "margin": null,
            "display": null,
            "left": null
          }
        },
        "61dcd1f3056b4a889375572f959a62da": {
          "model_module": "@jupyter-widgets/controls",
          "model_name": "HBoxModel",
          "state": {
            "_view_name": "HBoxView",
            "_dom_classes": [],
            "_model_name": "HBoxModel",
            "_view_module": "@jupyter-widgets/controls",
            "_model_module_version": "1.5.0",
            "_view_count": null,
            "_view_module_version": "1.5.0",
            "box_style": "",
            "layout": "IPY_MODEL_2bc95967865b43368ab7a847b6c80653",
            "_model_module": "@jupyter-widgets/controls",
            "children": [
              "IPY_MODEL_c05cf1b338ed4978a8c86bfb23387c09",
              "IPY_MODEL_4e145fff9c254622858249ec830ea26e"
            ]
          }
        },
        "2bc95967865b43368ab7a847b6c80653": {
          "model_module": "@jupyter-widgets/base",
          "model_name": "LayoutModel",
          "state": {
            "_view_name": "LayoutView",
            "grid_template_rows": null,
            "right": null,
            "justify_content": null,
            "_view_module": "@jupyter-widgets/base",
            "overflow": null,
            "_model_module_version": "1.2.0",
            "_view_count": null,
            "flex_flow": null,
            "width": null,
            "min_width": null,
            "border": null,
            "align_items": null,
            "bottom": null,
            "_model_module": "@jupyter-widgets/base",
            "top": null,
            "grid_column": null,
            "overflow_y": null,
            "overflow_x": null,
            "grid_auto_flow": null,
            "grid_area": null,
            "grid_template_columns": null,
            "flex": null,
            "_model_name": "LayoutModel",
            "justify_items": null,
            "grid_row": null,
            "max_height": null,
            "align_content": null,
            "visibility": null,
            "align_self": null,
            "height": null,
            "min_height": null,
            "padding": null,
            "grid_auto_rows": null,
            "grid_gap": null,
            "max_width": null,
            "order": null,
            "_view_module_version": "1.2.0",
            "grid_template_areas": null,
            "object_position": null,
            "object_fit": null,
            "grid_auto_columns": null,
            "margin": null,
            "display": null,
            "left": null
          }
        },
        "c05cf1b338ed4978a8c86bfb23387c09": {
          "model_module": "@jupyter-widgets/controls",
          "model_name": "FloatProgressModel",
          "state": {
            "_view_name": "ProgressView",
            "style": "IPY_MODEL_e8a95300d92f4035b8f46e9c603ba5b2",
            "_dom_classes": [],
            "description": "Iteration: 100%",
            "_model_name": "FloatProgressModel",
            "bar_style": "success",
            "max": 10801,
            "_view_module": "@jupyter-widgets/controls",
            "_model_module_version": "1.5.0",
            "value": 10801,
            "_view_count": null,
            "_view_module_version": "1.5.0",
            "orientation": "horizontal",
            "min": 0,
            "description_tooltip": null,
            "_model_module": "@jupyter-widgets/controls",
            "layout": "IPY_MODEL_d2eaff55f8f8493294883d4bb4291667"
          }
        },
        "4e145fff9c254622858249ec830ea26e": {
          "model_module": "@jupyter-widgets/controls",
          "model_name": "HTMLModel",
          "state": {
            "_view_name": "HTMLView",
            "style": "IPY_MODEL_87f68880831e477cbcc127673bfa6428",
            "_dom_classes": [],
            "description": "",
            "_model_name": "HTMLModel",
            "placeholder": "​",
            "_view_module": "@jupyter-widgets/controls",
            "_model_module_version": "1.5.0",
            "value": " 10801/10801 [1:29:39&lt;00:00,  2.01it/s]",
            "_view_count": null,
            "_view_module_version": "1.5.0",
            "description_tooltip": null,
            "_model_module": "@jupyter-widgets/controls",
            "layout": "IPY_MODEL_4d2ec3aea58642deaf3aa4f2c25a9e0e"
          }
        },
        "e8a95300d92f4035b8f46e9c603ba5b2": {
          "model_module": "@jupyter-widgets/controls",
          "model_name": "ProgressStyleModel",
          "state": {
            "_view_name": "StyleView",
            "_model_name": "ProgressStyleModel",
            "description_width": "initial",
            "_view_module": "@jupyter-widgets/base",
            "_model_module_version": "1.5.0",
            "_view_count": null,
            "_view_module_version": "1.2.0",
            "bar_color": null,
            "_model_module": "@jupyter-widgets/controls"
          }
        },
        "d2eaff55f8f8493294883d4bb4291667": {
          "model_module": "@jupyter-widgets/base",
          "model_name": "LayoutModel",
          "state": {
            "_view_name": "LayoutView",
            "grid_template_rows": null,
            "right": null,
            "justify_content": null,
            "_view_module": "@jupyter-widgets/base",
            "overflow": null,
            "_model_module_version": "1.2.0",
            "_view_count": null,
            "flex_flow": null,
            "width": null,
            "min_width": null,
            "border": null,
            "align_items": null,
            "bottom": null,
            "_model_module": "@jupyter-widgets/base",
            "top": null,
            "grid_column": null,
            "overflow_y": null,
            "overflow_x": null,
            "grid_auto_flow": null,
            "grid_area": null,
            "grid_template_columns": null,
            "flex": null,
            "_model_name": "LayoutModel",
            "justify_items": null,
            "grid_row": null,
            "max_height": null,
            "align_content": null,
            "visibility": null,
            "align_self": null,
            "height": null,
            "min_height": null,
            "padding": null,
            "grid_auto_rows": null,
            "grid_gap": null,
            "max_width": null,
            "order": null,
            "_view_module_version": "1.2.0",
            "grid_template_areas": null,
            "object_position": null,
            "object_fit": null,
            "grid_auto_columns": null,
            "margin": null,
            "display": null,
            "left": null
          }
        },
        "87f68880831e477cbcc127673bfa6428": {
          "model_module": "@jupyter-widgets/controls",
          "model_name": "DescriptionStyleModel",
          "state": {
            "_view_name": "StyleView",
            "_model_name": "DescriptionStyleModel",
            "description_width": "",
            "_view_module": "@jupyter-widgets/base",
            "_model_module_version": "1.5.0",
            "_view_count": null,
            "_view_module_version": "1.2.0",
            "_model_module": "@jupyter-widgets/controls"
          }
        },
        "4d2ec3aea58642deaf3aa4f2c25a9e0e": {
          "model_module": "@jupyter-widgets/base",
          "model_name": "LayoutModel",
          "state": {
            "_view_name": "LayoutView",
            "grid_template_rows": null,
            "right": null,
            "justify_content": null,
            "_view_module": "@jupyter-widgets/base",
            "overflow": null,
            "_model_module_version": "1.2.0",
            "_view_count": null,
            "flex_flow": null,
            "width": null,
            "min_width": null,
            "border": null,
            "align_items": null,
            "bottom": null,
            "_model_module": "@jupyter-widgets/base",
            "top": null,
            "grid_column": null,
            "overflow_y": null,
            "overflow_x": null,
            "grid_auto_flow": null,
            "grid_area": null,
            "grid_template_columns": null,
            "flex": null,
            "_model_name": "LayoutModel",
            "justify_items": null,
            "grid_row": null,
            "max_height": null,
            "align_content": null,
            "visibility": null,
            "align_self": null,
            "height": null,
            "min_height": null,
            "padding": null,
            "grid_auto_rows": null,
            "grid_gap": null,
            "max_width": null,
            "order": null,
            "_view_module_version": "1.2.0",
            "grid_template_areas": null,
            "object_position": null,
            "object_fit": null,
            "grid_auto_columns": null,
            "margin": null,
            "display": null,
            "left": null
          }
        }
      }
    }
  },
  "cells": [
    {
      "cell_type": "markdown",
      "metadata": {
        "id": "qbu3icXhyiTI",
        "colab_type": "text"
      },
      "source": [
        "Installs"
      ]
    },
    {
      "cell_type": "code",
      "metadata": {
        "id": "4_iyEf3wyxrj",
        "colab_type": "code",
        "colab": {
          "base_uri": "https://localhost:8080/",
          "height": 122
        },
        "outputId": "38e6f0b6-d3ef-4745-f811-95402557acce"
      },
      "source": [
        "pip install tokenizers"
      ],
      "execution_count": null,
      "outputs": [
        {
          "output_type": "stream",
          "text": [
            "Collecting tokenizers\n",
            "\u001b[?25l  Downloading https://files.pythonhosted.org/packages/e9/ee/fedc3509145ad60fe5b418783f4a4c1b5462a4f0e8c7bbdbda52bdcda486/tokenizers-0.8.1-cp36-cp36m-manylinux1_x86_64.whl (3.0MB)\n",
            "\r\u001b[K     |                                | 10kB 19.3MB/s eta 0:00:01\r\u001b[K     |▏                               | 20kB 6.4MB/s eta 0:00:01\r\u001b[K     |▎                               | 30kB 7.4MB/s eta 0:00:01\r\u001b[K     |▍                               | 40kB 8.6MB/s eta 0:00:01\r\u001b[K     |▌                               | 51kB 7.1MB/s eta 0:00:01\r\u001b[K     |▋                               | 61kB 7.5MB/s eta 0:00:01\r\u001b[K     |▊                               | 71kB 8.0MB/s eta 0:00:01\r\u001b[K     |▉                               | 81kB 8.9MB/s eta 0:00:01\r\u001b[K     |█                               | 92kB 9.2MB/s eta 0:00:01\r\u001b[K     |█                               | 102kB 9.6MB/s eta 0:00:01\r\u001b[K     |█▏                              | 112kB 9.6MB/s eta 0:00:01\r\u001b[K     |█▎                              | 122kB 9.6MB/s eta 0:00:01\r\u001b[K     |█▍                              | 133kB 9.6MB/s eta 0:00:01\r\u001b[K     |█▌                              | 143kB 9.6MB/s eta 0:00:01\r\u001b[K     |█▋                              | 153kB 9.6MB/s eta 0:00:01\r\u001b[K     |█▊                              | 163kB 9.6MB/s eta 0:00:01\r\u001b[K     |█▉                              | 174kB 9.6MB/s eta 0:00:01\r\u001b[K     |██                              | 184kB 9.6MB/s eta 0:00:01\r\u001b[K     |██                              | 194kB 9.6MB/s eta 0:00:01\r\u001b[K     |██▏                             | 204kB 9.6MB/s eta 0:00:01\r\u001b[K     |██▎                             | 215kB 9.6MB/s eta 0:00:01\r\u001b[K     |██▍                             | 225kB 9.6MB/s eta 0:00:01\r\u001b[K     |██▌                             | 235kB 9.6MB/s eta 0:00:01\r\u001b[K     |██▋                             | 245kB 9.6MB/s eta 0:00:01\r\u001b[K     |██▊                             | 256kB 9.6MB/s eta 0:00:01\r\u001b[K     |██▉                             | 266kB 9.6MB/s eta 0:00:01\r\u001b[K     |███                             | 276kB 9.6MB/s eta 0:00:01\r\u001b[K     |███                             | 286kB 9.6MB/s eta 0:00:01\r\u001b[K     |███▏                            | 296kB 9.6MB/s eta 0:00:01\r\u001b[K     |███▎                            | 307kB 9.6MB/s eta 0:00:01\r\u001b[K     |███▍                            | 317kB 9.6MB/s eta 0:00:01\r\u001b[K     |███▌                            | 327kB 9.6MB/s eta 0:00:01\r\u001b[K     |███▋                            | 337kB 9.6MB/s eta 0:00:01\r\u001b[K     |███▊                            | 348kB 9.6MB/s eta 0:00:01\r\u001b[K     |███▊                            | 358kB 9.6MB/s eta 0:00:01\r\u001b[K     |███▉                            | 368kB 9.6MB/s eta 0:00:01\r\u001b[K     |████                            | 378kB 9.6MB/s eta 0:00:01\r\u001b[K     |████                            | 389kB 9.6MB/s eta 0:00:01\r\u001b[K     |████▏                           | 399kB 9.6MB/s eta 0:00:01\r\u001b[K     |████▎                           | 409kB 9.6MB/s eta 0:00:01\r\u001b[K     |████▍                           | 419kB 9.6MB/s eta 0:00:01\r\u001b[K     |████▌                           | 430kB 9.6MB/s eta 0:00:01\r\u001b[K     |████▋                           | 440kB 9.6MB/s eta 0:00:01\r\u001b[K     |████▊                           | 450kB 9.6MB/s eta 0:00:01\r\u001b[K     |████▉                           | 460kB 9.6MB/s eta 0:00:01\r\u001b[K     |█████                           | 471kB 9.6MB/s eta 0:00:01\r\u001b[K     |█████                           | 481kB 9.6MB/s eta 0:00:01\r\u001b[K     |█████▏                          | 491kB 9.6MB/s eta 0:00:01\r\u001b[K     |█████▎                          | 501kB 9.6MB/s eta 0:00:01\r\u001b[K     |█████▍                          | 512kB 9.6MB/s eta 0:00:01\r\u001b[K     |█████▌                          | 522kB 9.6MB/s eta 0:00:01\r\u001b[K     |█████▋                          | 532kB 9.6MB/s eta 0:00:01\r\u001b[K     |█████▊                          | 542kB 9.6MB/s eta 0:00:01\r\u001b[K     |█████▉                          | 552kB 9.6MB/s eta 0:00:01\r\u001b[K     |██████                          | 563kB 9.6MB/s eta 0:00:01\r\u001b[K     |██████                          | 573kB 9.6MB/s eta 0:00:01\r\u001b[K     |██████▏                         | 583kB 9.6MB/s eta 0:00:01\r\u001b[K     |██████▎                         | 593kB 9.6MB/s eta 0:00:01\r\u001b[K     |██████▍                         | 604kB 9.6MB/s eta 0:00:01\r\u001b[K     |██████▌                         | 614kB 9.6MB/s eta 0:00:01\r\u001b[K     |██████▋                         | 624kB 9.6MB/s eta 0:00:01\r\u001b[K     |██████▊                         | 634kB 9.6MB/s eta 0:00:01\r\u001b[K     |██████▉                         | 645kB 9.6MB/s eta 0:00:01\r\u001b[K     |███████                         | 655kB 9.6MB/s eta 0:00:01\r\u001b[K     |███████                         | 665kB 9.6MB/s eta 0:00:01\r\u001b[K     |███████▏                        | 675kB 9.6MB/s eta 0:00:01\r\u001b[K     |███████▎                        | 686kB 9.6MB/s eta 0:00:01\r\u001b[K     |███████▍                        | 696kB 9.6MB/s eta 0:00:01\r\u001b[K     |███████▌                        | 706kB 9.6MB/s eta 0:00:01\r\u001b[K     |███████▌                        | 716kB 9.6MB/s eta 0:00:01\r\u001b[K     |███████▋                        | 727kB 9.6MB/s eta 0:00:01\r\u001b[K     |███████▊                        | 737kB 9.6MB/s eta 0:00:01\r\u001b[K     |███████▉                        | 747kB 9.6MB/s eta 0:00:01\r\u001b[K     |████████                        | 757kB 9.6MB/s eta 0:00:01\r\u001b[K     |████████                        | 768kB 9.6MB/s eta 0:00:01\r\u001b[K     |████████▏                       | 778kB 9.6MB/s eta 0:00:01\r\u001b[K     |████████▎                       | 788kB 9.6MB/s eta 0:00:01\r\u001b[K     |████████▍                       | 798kB 9.6MB/s eta 0:00:01\r\u001b[K     |████████▌                       | 808kB 9.6MB/s eta 0:00:01\r\u001b[K     |████████▋                       | 819kB 9.6MB/s eta 0:00:01\r\u001b[K     |████████▊                       | 829kB 9.6MB/s eta 0:00:01\r\u001b[K     |████████▉                       | 839kB 9.6MB/s eta 0:00:01\r\u001b[K     |█████████                       | 849kB 9.6MB/s eta 0:00:01\r\u001b[K     |█████████                       | 860kB 9.6MB/s eta 0:00:01\r\u001b[K     |█████████▏                      | 870kB 9.6MB/s eta 0:00:01\r\u001b[K     |█████████▎                      | 880kB 9.6MB/s eta 0:00:01\r\u001b[K     |█████████▍                      | 890kB 9.6MB/s eta 0:00:01\r\u001b[K     |█████████▌                      | 901kB 9.6MB/s eta 0:00:01\r\u001b[K     |█████████▋                      | 911kB 9.6MB/s eta 0:00:01\r\u001b[K     |█████████▊                      | 921kB 9.6MB/s eta 0:00:01\r\u001b[K     |█████████▉                      | 931kB 9.6MB/s eta 0:00:01\r\u001b[K     |██████████                      | 942kB 9.6MB/s eta 0:00:01\r\u001b[K     |██████████                      | 952kB 9.6MB/s eta 0:00:01\r\u001b[K     |██████████▏                     | 962kB 9.6MB/s eta 0:00:01\r\u001b[K     |██████████▎                     | 972kB 9.6MB/s eta 0:00:01\r\u001b[K     |██████████▍                     | 983kB 9.6MB/s eta 0:00:01\r\u001b[K     |██████████▌                     | 993kB 9.6MB/s eta 0:00:01\r\u001b[K     |██████████▋                     | 1.0MB 9.6MB/s eta 0:00:01\r\u001b[K     |██████████▊                     | 1.0MB 9.6MB/s eta 0:00:01\r\u001b[K     |██████████▉                     | 1.0MB 9.6MB/s eta 0:00:01\r\u001b[K     |███████████                     | 1.0MB 9.6MB/s eta 0:00:01\r\u001b[K     |███████████                     | 1.0MB 9.6MB/s eta 0:00:01\r\u001b[K     |███████████▏                    | 1.1MB 9.6MB/s eta 0:00:01\r\u001b[K     |███████████▎                    | 1.1MB 9.6MB/s eta 0:00:01\r\u001b[K     |███████████▎                    | 1.1MB 9.6MB/s eta 0:00:01\r\u001b[K     |███████████▍                    | 1.1MB 9.6MB/s eta 0:00:01\r\u001b[K     |███████████▌                    | 1.1MB 9.6MB/s eta 0:00:01\r\u001b[K     |███████████▋                    | 1.1MB 9.6MB/s eta 0:00:01\r\u001b[K     |███████████▊                    | 1.1MB 9.6MB/s eta 0:00:01\r\u001b[K     |███████████▉                    | 1.1MB 9.6MB/s eta 0:00:01\r\u001b[K     |████████████                    | 1.1MB 9.6MB/s eta 0:00:01\r\u001b[K     |████████████                    | 1.1MB 9.6MB/s eta 0:00:01\r\u001b[K     |████████████▏                   | 1.2MB 9.6MB/s eta 0:00:01\r\u001b[K     |████████████▎                   | 1.2MB 9.6MB/s eta 0:00:01\r\u001b[K     |████████████▍                   | 1.2MB 9.6MB/s eta 0:00:01\r\u001b[K     |████████████▌                   | 1.2MB 9.6MB/s eta 0:00:01\r\u001b[K     |████████████▋                   | 1.2MB 9.6MB/s eta 0:00:01\r\u001b[K     |████████████▊                   | 1.2MB 9.6MB/s eta 0:00:01\r\u001b[K     |████████████▉                   | 1.2MB 9.6MB/s eta 0:00:01\r\u001b[K     |█████████████                   | 1.2MB 9.6MB/s eta 0:00:01\r\u001b[K     |█████████████                   | 1.2MB 9.6MB/s eta 0:00:01\r\u001b[K     |█████████████▏                  | 1.2MB 9.6MB/s eta 0:00:01\r\u001b[K     |█████████████▎                  | 1.3MB 9.6MB/s eta 0:00:01\r\u001b[K     |█████████████▍                  | 1.3MB 9.6MB/s eta 0:00:01\r\u001b[K     |█████████████▌                  | 1.3MB 9.6MB/s eta 0:00:01\r\u001b[K     |█████████████▋                  | 1.3MB 9.6MB/s eta 0:00:01\r\u001b[K     |█████████████▊                  | 1.3MB 9.6MB/s eta 0:00:01\r\u001b[K     |█████████████▉                  | 1.3MB 9.6MB/s eta 0:00:01\r\u001b[K     |██████████████                  | 1.3MB 9.6MB/s eta 0:00:01\r\u001b[K     |██████████████                  | 1.3MB 9.6MB/s eta 0:00:01\r\u001b[K     |██████████████▏                 | 1.3MB 9.6MB/s eta 0:00:01\r\u001b[K     |██████████████▎                 | 1.4MB 9.6MB/s eta 0:00:01\r\u001b[K     |██████████████▍                 | 1.4MB 9.6MB/s eta 0:00:01\r\u001b[K     |██████████████▌                 | 1.4MB 9.6MB/s eta 0:00:01\r\u001b[K     |██████████████▋                 | 1.4MB 9.6MB/s eta 0:00:01\r\u001b[K     |██████████████▊                 | 1.4MB 9.6MB/s eta 0:00:01\r\u001b[K     |██████████████▉                 | 1.4MB 9.6MB/s eta 0:00:01\r\u001b[K     |███████████████                 | 1.4MB 9.6MB/s eta 0:00:01\r\u001b[K     |███████████████                 | 1.4MB 9.6MB/s eta 0:00:01\r\u001b[K     |███████████████                 | 1.4MB 9.6MB/s eta 0:00:01\r\u001b[K     |███████████████▏                | 1.4MB 9.6MB/s eta 0:00:01\r\u001b[K     |███████████████▎                | 1.5MB 9.6MB/s eta 0:00:01\r\u001b[K     |███████████████▍                | 1.5MB 9.6MB/s eta 0:00:01\r\u001b[K     |███████████████▌                | 1.5MB 9.6MB/s eta 0:00:01\r\u001b[K     |███████████████▋                | 1.5MB 9.6MB/s eta 0:00:01\r\u001b[K     |███████████████▊                | 1.5MB 9.6MB/s eta 0:00:01\r\u001b[K     |███████████████▉                | 1.5MB 9.6MB/s eta 0:00:01\r\u001b[K     |████████████████                | 1.5MB 9.6MB/s eta 0:00:01\r\u001b[K     |████████████████                | 1.5MB 9.6MB/s eta 0:00:01\r\u001b[K     |████████████████▏               | 1.5MB 9.6MB/s eta 0:00:01\r\u001b[K     |████████████████▎               | 1.5MB 9.6MB/s eta 0:00:01\r\u001b[K     |████████████████▍               | 1.6MB 9.6MB/s eta 0:00:01\r\u001b[K     |████████████████▌               | 1.6MB 9.6MB/s eta 0:00:01\r\u001b[K     |████████████████▋               | 1.6MB 9.6MB/s eta 0:00:01\r\u001b[K     |████████████████▊               | 1.6MB 9.6MB/s eta 0:00:01\r\u001b[K     |████████████████▉               | 1.6MB 9.6MB/s eta 0:00:01\r\u001b[K     |█████████████████               | 1.6MB 9.6MB/s eta 0:00:01\r\u001b[K     |█████████████████               | 1.6MB 9.6MB/s eta 0:00:01\r\u001b[K     |█████████████████▏              | 1.6MB 9.6MB/s eta 0:00:01\r\u001b[K     |█████████████████▎              | 1.6MB 9.6MB/s eta 0:00:01\r\u001b[K     |█████████████████▍              | 1.6MB 9.6MB/s eta 0:00:01\r\u001b[K     |█████████████████▌              | 1.7MB 9.6MB/s eta 0:00:01\r\u001b[K     |█████████████████▋              | 1.7MB 9.6MB/s eta 0:00:01\r\u001b[K     |█████████████████▊              | 1.7MB 9.6MB/s eta 0:00:01\r\u001b[K     |█████████████████▉              | 1.7MB 9.6MB/s eta 0:00:01\r\u001b[K     |██████████████████              | 1.7MB 9.6MB/s eta 0:00:01\r\u001b[K     |██████████████████              | 1.7MB 9.6MB/s eta 0:00:01\r\u001b[K     |██████████████████▏             | 1.7MB 9.6MB/s eta 0:00:01\r\u001b[K     |██████████████████▎             | 1.7MB 9.6MB/s eta 0:00:01\r\u001b[K     |██████████████████▍             | 1.7MB 9.6MB/s eta 0:00:01\r\u001b[K     |██████████████████▌             | 1.8MB 9.6MB/s eta 0:00:01\r\u001b[K     |██████████████████▋             | 1.8MB 9.6MB/s eta 0:00:01\r\u001b[K     |██████████████████▊             | 1.8MB 9.6MB/s eta 0:00:01\r\u001b[K     |██████████████████▊             | 1.8MB 9.6MB/s eta 0:00:01\r\u001b[K     |██████████████████▉             | 1.8MB 9.6MB/s eta 0:00:01\r\u001b[K     |███████████████████             | 1.8MB 9.6MB/s eta 0:00:01\r\u001b[K     |███████████████████             | 1.8MB 9.6MB/s eta 0:00:01\r\u001b[K     |███████████████████▏            | 1.8MB 9.6MB/s eta 0:00:01\r\u001b[K     |███████████████████▎            | 1.8MB 9.6MB/s eta 0:00:01\r\u001b[K     |███████████████████▍            | 1.8MB 9.6MB/s eta 0:00:01\r\u001b[K     |███████████████████▌            | 1.9MB 9.6MB/s eta 0:00:01\r\u001b[K     |███████████████████▋            | 1.9MB 9.6MB/s eta 0:00:01\r\u001b[K     |███████████████████▊            | 1.9MB 9.6MB/s eta 0:00:01\r\u001b[K     |███████████████████▉            | 1.9MB 9.6MB/s eta 0:00:01\r\u001b[K     |████████████████████            | 1.9MB 9.6MB/s eta 0:00:01\r\u001b[K     |████████████████████            | 1.9MB 9.6MB/s eta 0:00:01\r\u001b[K     |████████████████████▏           | 1.9MB 9.6MB/s eta 0:00:01\r\u001b[K     |████████████████████▎           | 1.9MB 9.6MB/s eta 0:00:01\r\u001b[K     |████████████████████▍           | 1.9MB 9.6MB/s eta 0:00:01\r\u001b[K     |████████████████████▌           | 1.9MB 9.6MB/s eta 0:00:01\r\u001b[K     |████████████████████▋           | 2.0MB 9.6MB/s eta 0:00:01\r\u001b[K     |████████████████████▊           | 2.0MB 9.6MB/s eta 0:00:01\r\u001b[K     |████████████████████▉           | 2.0MB 9.6MB/s eta 0:00:01\r\u001b[K     |█████████████████████           | 2.0MB 9.6MB/s eta 0:00:01\r\u001b[K     |█████████████████████           | 2.0MB 9.6MB/s eta 0:00:01\r\u001b[K     |█████████████████████▏          | 2.0MB 9.6MB/s eta 0:00:01\r\u001b[K     |█████████████████████▎          | 2.0MB 9.6MB/s eta 0:00:01\r\u001b[K     |█████████████████████▍          | 2.0MB 9.6MB/s eta 0:00:01\r\u001b[K     |█████████████████████▌          | 2.0MB 9.6MB/s eta 0:00:01\r\u001b[K     |█████████████████████▋          | 2.0MB 92kB/s eta 0:00:11\r\u001b[K     |█████████████████████▊          | 2.1MB 92kB/s eta 0:00:11\r\u001b[K     |█████████████████████▉          | 2.1MB 92kB/s eta 0:00:11\r\u001b[K     |██████████████████████          | 2.1MB 92kB/s eta 0:00:11\r\u001b[K     |██████████████████████          | 2.1MB 92kB/s eta 0:00:11\r\u001b[K     |██████████████████████▏         | 2.1MB 92kB/s eta 0:00:11\r\u001b[K     |██████████████████████▎         | 2.1MB 92kB/s eta 0:00:11\r\u001b[K     |██████████████████████▍         | 2.1MB 92kB/s eta 0:00:10\r\u001b[K     |██████████████████████▌         | 2.1MB 92kB/s eta 0:00:10\r\u001b[K     |██████████████████████▌         | 2.1MB 92kB/s eta 0:00:10\r\u001b[K     |██████████████████████▋         | 2.2MB 92kB/s eta 0:00:10\r\u001b[K     |██████████████████████▊         | 2.2MB 92kB/s eta 0:00:10\r\u001b[K     |██████████████████████▉         | 2.2MB 92kB/s eta 0:00:10\r\u001b[K     |███████████████████████         | 2.2MB 92kB/s eta 0:00:10\r\u001b[K     |███████████████████████         | 2.2MB 92kB/s eta 0:00:10\r\u001b[K     |███████████████████████▏        | 2.2MB 92kB/s eta 0:00:10\r\u001b[K     |███████████████████████▎        | 2.2MB 92kB/s eta 0:00:09\r\u001b[K     |███████████████████████▍        | 2.2MB 92kB/s eta 0:00:09\r\u001b[K     |███████████████████████▌        | 2.2MB 92kB/s eta 0:00:09\r\u001b[K     |███████████████████████▋        | 2.2MB 92kB/s eta 0:00:09\r\u001b[K     |███████████████████████▊        | 2.3MB 92kB/s eta 0:00:09\r\u001b[K     |███████████████████████▉        | 2.3MB 92kB/s eta 0:00:09\r\u001b[K     |████████████████████████        | 2.3MB 92kB/s eta 0:00:09\r\u001b[K     |████████████████████████        | 2.3MB 92kB/s eta 0:00:09\r\u001b[K     |████████████████████████▏       | 2.3MB 92kB/s eta 0:00:09\r\u001b[K     |████████████████████████▎       | 2.3MB 92kB/s eta 0:00:08\r\u001b[K     |████████████████████████▍       | 2.3MB 92kB/s eta 0:00:08\r\u001b[K     |████████████████████████▌       | 2.3MB 92kB/s eta 0:00:08\r\u001b[K     |████████████████████████▋       | 2.3MB 92kB/s eta 0:00:08\r\u001b[K     |████████████████████████▊       | 2.3MB 92kB/s eta 0:00:08\r\u001b[K     |████████████████████████▉       | 2.4MB 92kB/s eta 0:00:08\r\u001b[K     |█████████████████████████       | 2.4MB 92kB/s eta 0:00:08\r\u001b[K     |█████████████████████████       | 2.4MB 92kB/s eta 0:00:08\r\u001b[K     |█████████████████████████▏      | 2.4MB 92kB/s eta 0:00:08\r\u001b[K     |█████████████████████████▎      | 2.4MB 92kB/s eta 0:00:07\r\u001b[K     |█████████████████████████▍      | 2.4MB 92kB/s eta 0:00:07\r\u001b[K     |█████████████████████████▌      | 2.4MB 92kB/s eta 0:00:07\r\u001b[K     |█████████████████████████▋      | 2.4MB 92kB/s eta 0:00:07\r\u001b[K     |█████████████████████████▊      | 2.4MB 92kB/s eta 0:00:07\r\u001b[K     |█████████████████████████▉      | 2.4MB 92kB/s eta 0:00:07\r\u001b[K     |██████████████████████████      | 2.5MB 92kB/s eta 0:00:07\r\u001b[K     |██████████████████████████      | 2.5MB 92kB/s eta 0:00:07\r\u001b[K     |██████████████████████████▏     | 2.5MB 92kB/s eta 0:00:07\r\u001b[K     |██████████████████████████▎     | 2.5MB 92kB/s eta 0:00:06\r\u001b[K     |██████████████████████████▎     | 2.5MB 92kB/s eta 0:00:06\r\u001b[K     |██████████████████████████▍     | 2.5MB 92kB/s eta 0:00:06\r\u001b[K     |██████████████████████████▌     | 2.5MB 92kB/s eta 0:00:06\r\u001b[K     |██████████████████████████▋     | 2.5MB 92kB/s eta 0:00:06\r\u001b[K     |██████████████████████████▊     | 2.5MB 92kB/s eta 0:00:06\r\u001b[K     |██████████████████████████▉     | 2.5MB 92kB/s eta 0:00:06\r\u001b[K     |███████████████████████████     | 2.6MB 92kB/s eta 0:00:06\r\u001b[K     |███████████████████████████     | 2.6MB 92kB/s eta 0:00:06\r\u001b[K     |███████████████████████████▏    | 2.6MB 92kB/s eta 0:00:05\r\u001b[K     |███████████████████████████▎    | 2.6MB 92kB/s eta 0:00:05\r\u001b[K     |███████████████████████████▍    | 2.6MB 92kB/s eta 0:00:05\r\u001b[K     |███████████████████████████▌    | 2.6MB 92kB/s eta 0:00:05\r\u001b[K     |███████████████████████████▋    | 2.6MB 92kB/s eta 0:00:05\r\u001b[K     |███████████████████████████▊    | 2.6MB 92kB/s eta 0:00:05\r\u001b[K     |███████████████████████████▉    | 2.6MB 92kB/s eta 0:00:05\r\u001b[K     |████████████████████████████    | 2.7MB 92kB/s eta 0:00:05\r\u001b[K     |████████████████████████████    | 2.7MB 92kB/s eta 0:00:05\r\u001b[K     |████████████████████████████▏   | 2.7MB 92kB/s eta 0:00:04\r\u001b[K     |████████████████████████████▎   | 2.7MB 92kB/s eta 0:00:04\r\u001b[K     |████████████████████████████▍   | 2.7MB 92kB/s eta 0:00:04\r\u001b[K     |████████████████████████████▌   | 2.7MB 92kB/s eta 0:00:04\r\u001b[K     |████████████████████████████▋   | 2.7MB 92kB/s eta 0:00:04\r\u001b[K     |████████████████████████████▊   | 2.7MB 92kB/s eta 0:00:04\r\u001b[K     |████████████████████████████▉   | 2.7MB 92kB/s eta 0:00:04\r\u001b[K     |█████████████████████████████   | 2.7MB 92kB/s eta 0:00:04\r\u001b[K     |█████████████████████████████   | 2.8MB 92kB/s eta 0:00:04\r\u001b[K     |█████████████████████████████▏  | 2.8MB 92kB/s eta 0:00:03\r\u001b[K     |█████████████████████████████▎  | 2.8MB 92kB/s eta 0:00:03\r\u001b[K     |█████████████████████████████▍  | 2.8MB 92kB/s eta 0:00:03\r\u001b[K     |█████████████████████████████▌  | 2.8MB 92kB/s eta 0:00:03\r\u001b[K     |█████████████████████████████▋  | 2.8MB 92kB/s eta 0:00:03\r\u001b[K     |█████████████████████████████▊  | 2.8MB 92kB/s eta 0:00:03\r\u001b[K     |█████████████████████████████▉  | 2.8MB 92kB/s eta 0:00:03\r\u001b[K     |██████████████████████████████  | 2.8MB 92kB/s eta 0:00:03\r\u001b[K     |██████████████████████████████  | 2.8MB 92kB/s eta 0:00:03\r\u001b[K     |██████████████████████████████  | 2.9MB 92kB/s eta 0:00:02\r\u001b[K     |██████████████████████████████▏ | 2.9MB 92kB/s eta 0:00:02\r\u001b[K     |██████████████████████████████▎ | 2.9MB 92kB/s eta 0:00:02\r\u001b[K     |██████████████████████████████▍ | 2.9MB 92kB/s eta 0:00:02\r\u001b[K     |██████████████████████████████▌ | 2.9MB 92kB/s eta 0:00:02\r\u001b[K     |██████████████████████████████▋ | 2.9MB 92kB/s eta 0:00:02\r\u001b[K     |██████████████████████████████▊ | 2.9MB 92kB/s eta 0:00:02\r\u001b[K     |██████████████████████████████▉ | 2.9MB 92kB/s eta 0:00:02\r\u001b[K     |███████████████████████████████ | 2.9MB 92kB/s eta 0:00:02\r\u001b[K     |███████████████████████████████ | 2.9MB 92kB/s eta 0:00:01\r\u001b[K     |███████████████████████████████▏| 3.0MB 92kB/s eta 0:00:01\r\u001b[K     |███████████████████████████████▎| 3.0MB 92kB/s eta 0:00:01\r\u001b[K     |███████████████████████████████▍| 3.0MB 92kB/s eta 0:00:01\r\u001b[K     |███████████████████████████████▌| 3.0MB 92kB/s eta 0:00:01\r\u001b[K     |███████████████████████████████▋| 3.0MB 92kB/s eta 0:00:01\r\u001b[K     |███████████████████████████████▊| 3.0MB 92kB/s eta 0:00:01\r\u001b[K     |███████████████████████████████▉| 3.0MB 92kB/s eta 0:00:01\r\u001b[K     |████████████████████████████████| 3.0MB 92kB/s eta 0:00:01\r\u001b[K     |████████████████████████████████| 3.0MB 92kB/s \n",
            "\u001b[?25hInstalling collected packages: tokenizers\n",
            "Successfully installed tokenizers-0.8.1\n"
          ],
          "name": "stdout"
        }
      ]
    },
    {
      "cell_type": "code",
      "metadata": {
        "id": "7IadLzj6xrps",
        "colab_type": "code",
        "colab": {
          "base_uri": "https://localhost:8080/",
          "height": 666
        },
        "outputId": "2fe7f960-1c70-4ce5-86c0-30ef4c863230"
      },
      "source": [
        "pip install transformers"
      ],
      "execution_count": null,
      "outputs": [
        {
          "output_type": "stream",
          "text": [
            "Collecting transformers\n",
            "\u001b[?25l  Downloading https://files.pythonhosted.org/packages/27/3c/91ed8f5c4e7ef3227b4119200fc0ed4b4fd965b1f0172021c25701087825/transformers-3.0.2-py3-none-any.whl (769kB)\n",
            "\r\u001b[K     |▍                               | 10kB 22.4MB/s eta 0:00:01\r\u001b[K     |▉                               | 20kB 6.1MB/s eta 0:00:01\r\u001b[K     |█▎                              | 30kB 7.2MB/s eta 0:00:01\r\u001b[K     |█▊                              | 40kB 8.1MB/s eta 0:00:01\r\u001b[K     |██▏                             | 51kB 6.5MB/s eta 0:00:01\r\u001b[K     |██▋                             | 61kB 6.9MB/s eta 0:00:01\r\u001b[K     |███                             | 71kB 7.9MB/s eta 0:00:01\r\u001b[K     |███▍                            | 81kB 7.7MB/s eta 0:00:01\r\u001b[K     |███▉                            | 92kB 7.7MB/s eta 0:00:01\r\u001b[K     |████▎                           | 102kB 8.0MB/s eta 0:00:01\r\u001b[K     |████▊                           | 112kB 8.0MB/s eta 0:00:01\r\u001b[K     |█████▏                          | 122kB 8.0MB/s eta 0:00:01\r\u001b[K     |█████▌                          | 133kB 8.0MB/s eta 0:00:01\r\u001b[K     |██████                          | 143kB 8.0MB/s eta 0:00:01\r\u001b[K     |██████▍                         | 153kB 8.0MB/s eta 0:00:01\r\u001b[K     |██████▉                         | 163kB 8.0MB/s eta 0:00:01\r\u001b[K     |███████▎                        | 174kB 8.0MB/s eta 0:00:01\r\u001b[K     |███████▊                        | 184kB 8.0MB/s eta 0:00:01\r\u001b[K     |████████                        | 194kB 8.0MB/s eta 0:00:01\r\u001b[K     |████████▌                       | 204kB 8.0MB/s eta 0:00:01\r\u001b[K     |█████████                       | 215kB 8.0MB/s eta 0:00:01\r\u001b[K     |█████████▍                      | 225kB 8.0MB/s eta 0:00:01\r\u001b[K     |█████████▉                      | 235kB 8.0MB/s eta 0:00:01\r\u001b[K     |██████████▎                     | 245kB 8.0MB/s eta 0:00:01\r\u001b[K     |██████████▋                     | 256kB 8.0MB/s eta 0:00:01\r\u001b[K     |███████████                     | 266kB 8.0MB/s eta 0:00:01\r\u001b[K     |███████████▌                    | 276kB 8.0MB/s eta 0:00:01\r\u001b[K     |████████████                    | 286kB 8.0MB/s eta 0:00:01\r\u001b[K     |████████████▍                   | 296kB 8.0MB/s eta 0:00:01\r\u001b[K     |████████████▉                   | 307kB 8.0MB/s eta 0:00:01\r\u001b[K     |█████████████▏                  | 317kB 8.0MB/s eta 0:00:01\r\u001b[K     |█████████████▋                  | 327kB 8.0MB/s eta 0:00:01\r\u001b[K     |██████████████                  | 337kB 8.0MB/s eta 0:00:01\r\u001b[K     |██████████████▌                 | 348kB 8.0MB/s eta 0:00:01\r\u001b[K     |███████████████                 | 358kB 8.0MB/s eta 0:00:01\r\u001b[K     |███████████████▍                | 368kB 8.0MB/s eta 0:00:01\r\u001b[K     |███████████████▊                | 378kB 8.0MB/s eta 0:00:01\r\u001b[K     |████████████████▏               | 389kB 8.0MB/s eta 0:00:01\r\u001b[K     |████████████████▋               | 399kB 8.0MB/s eta 0:00:01\r\u001b[K     |█████████████████               | 409kB 8.0MB/s eta 0:00:01\r\u001b[K     |█████████████████▌              | 419kB 8.0MB/s eta 0:00:01\r\u001b[K     |██████████████████              | 430kB 8.0MB/s eta 0:00:01\r\u001b[K     |██████████████████▎             | 440kB 8.0MB/s eta 0:00:01\r\u001b[K     |██████████████████▊             | 450kB 8.0MB/s eta 0:00:01\r\u001b[K     |███████████████████▏            | 460kB 8.0MB/s eta 0:00:01\r\u001b[K     |███████████████████▋            | 471kB 8.0MB/s eta 0:00:01\r\u001b[K     |████████████████████            | 481kB 8.0MB/s eta 0:00:01\r\u001b[K     |████████████████████▌           | 491kB 8.0MB/s eta 0:00:01\r\u001b[K     |████████████████████▉           | 501kB 8.0MB/s eta 0:00:01\r\u001b[K     |█████████████████████▎          | 512kB 8.0MB/s eta 0:00:01\r\u001b[K     |█████████████████████▊          | 522kB 8.0MB/s eta 0:00:01\r\u001b[K     |██████████████████████▏         | 532kB 8.0MB/s eta 0:00:01\r\u001b[K     |██████████████████████▋         | 542kB 8.0MB/s eta 0:00:01\r\u001b[K     |███████████████████████         | 552kB 8.0MB/s eta 0:00:01\r\u001b[K     |███████████████████████▍        | 563kB 8.0MB/s eta 0:00:01\r\u001b[K     |███████████████████████▉        | 573kB 8.0MB/s eta 0:00:01\r\u001b[K     |████████████████████████▎       | 583kB 8.0MB/s eta 0:00:01\r\u001b[K     |████████████████████████▊       | 593kB 8.0MB/s eta 0:00:01\r\u001b[K     |█████████████████████████▏      | 604kB 8.0MB/s eta 0:00:01\r\u001b[K     |█████████████████████████▋      | 614kB 8.0MB/s eta 0:00:01\r\u001b[K     |██████████████████████████      | 624kB 8.0MB/s eta 0:00:01\r\u001b[K     |██████████████████████████▍     | 634kB 8.0MB/s eta 0:00:01\r\u001b[K     |██████████████████████████▉     | 645kB 8.0MB/s eta 0:00:01\r\u001b[K     |███████████████████████████▎    | 655kB 8.0MB/s eta 0:00:01\r\u001b[K     |███████████████████████████▊    | 665kB 8.0MB/s eta 0:00:01\r\u001b[K     |████████████████████████████▏   | 675kB 8.0MB/s eta 0:00:01\r\u001b[K     |████████████████████████████▌   | 686kB 8.0MB/s eta 0:00:01\r\u001b[K     |█████████████████████████████   | 696kB 8.0MB/s eta 0:00:01\r\u001b[K     |█████████████████████████████▍  | 706kB 8.0MB/s eta 0:00:01\r\u001b[K     |█████████████████████████████▉  | 716kB 8.0MB/s eta 0:00:01\r\u001b[K     |██████████████████████████████▎ | 727kB 8.0MB/s eta 0:00:01\r\u001b[K     |██████████████████████████████▊ | 737kB 8.0MB/s eta 0:00:01\r\u001b[K     |███████████████████████████████ | 747kB 8.0MB/s eta 0:00:01\r\u001b[K     |███████████████████████████████▌| 757kB 8.0MB/s eta 0:00:01\r\u001b[K     |████████████████████████████████| 768kB 8.0MB/s eta 0:00:01\r\u001b[K     |████████████████████████████████| 778kB 8.0MB/s \n",
            "\u001b[?25hRequirement already satisfied: regex!=2019.12.17 in /usr/local/lib/python3.6/dist-packages (from transformers) (2019.12.20)\n",
            "Collecting sacremoses\n",
            "\u001b[?25l  Downloading https://files.pythonhosted.org/packages/7d/34/09d19aff26edcc8eb2a01bed8e98f13a1537005d31e95233fd48216eed10/sacremoses-0.0.43.tar.gz (883kB)\n",
            "\u001b[K     |████████████████████████████████| 890kB 14.1MB/s \n",
            "\u001b[?25hRequirement already satisfied: numpy in /usr/local/lib/python3.6/dist-packages (from transformers) (1.18.5)\n",
            "Requirement already satisfied: filelock in /usr/local/lib/python3.6/dist-packages (from transformers) (3.0.12)\n",
            "Requirement already satisfied: dataclasses; python_version < \"3.7\" in /usr/local/lib/python3.6/dist-packages (from transformers) (0.7)\n",
            "Requirement already satisfied: tqdm>=4.27 in /usr/local/lib/python3.6/dist-packages (from transformers) (4.41.1)\n",
            "Collecting sentencepiece!=0.1.92\n",
            "\u001b[?25l  Downloading https://files.pythonhosted.org/packages/d4/a4/d0a884c4300004a78cca907a6ff9a5e9fe4f090f5d95ab341c53d28cbc58/sentencepiece-0.1.91-cp36-cp36m-manylinux1_x86_64.whl (1.1MB)\n",
            "\u001b[K     |████████████████████████████████| 1.1MB 20.5MB/s \n",
            "\u001b[?25hRequirement already satisfied: requests in /usr/local/lib/python3.6/dist-packages (from transformers) (2.23.0)\n",
            "Collecting tokenizers==0.8.1.rc1\n",
            "\u001b[?25l  Downloading https://files.pythonhosted.org/packages/40/d0/30d5f8d221a0ed981a186c8eb986ce1c94e3a6e87f994eae9f4aa5250217/tokenizers-0.8.1rc1-cp36-cp36m-manylinux1_x86_64.whl (3.0MB)\n",
            "\u001b[K     |████████████████████████████████| 3.0MB 57.0MB/s \n",
            "\u001b[?25hRequirement already satisfied: packaging in /usr/local/lib/python3.6/dist-packages (from transformers) (20.4)\n",
            "Requirement already satisfied: six in /usr/local/lib/python3.6/dist-packages (from sacremoses->transformers) (1.15.0)\n",
            "Requirement already satisfied: click in /usr/local/lib/python3.6/dist-packages (from sacremoses->transformers) (7.1.2)\n",
            "Requirement already satisfied: joblib in /usr/local/lib/python3.6/dist-packages (from sacremoses->transformers) (0.16.0)\n",
            "Requirement already satisfied: idna<3,>=2.5 in /usr/local/lib/python3.6/dist-packages (from requests->transformers) (2.10)\n",
            "Requirement already satisfied: certifi>=2017.4.17 in /usr/local/lib/python3.6/dist-packages (from requests->transformers) (2020.6.20)\n",
            "Requirement already satisfied: urllib3!=1.25.0,!=1.25.1,<1.26,>=1.21.1 in /usr/local/lib/python3.6/dist-packages (from requests->transformers) (1.24.3)\n",
            "Requirement already satisfied: chardet<4,>=3.0.2 in /usr/local/lib/python3.6/dist-packages (from requests->transformers) (3.0.4)\n",
            "Requirement already satisfied: pyparsing>=2.0.2 in /usr/local/lib/python3.6/dist-packages (from packaging->transformers) (2.4.7)\n",
            "Building wheels for collected packages: sacremoses\n",
            "  Building wheel for sacremoses (setup.py) ... \u001b[?25l\u001b[?25hdone\n",
            "  Created wheel for sacremoses: filename=sacremoses-0.0.43-cp36-none-any.whl size=893260 sha256=02a9dd4b85c475847077ba861c368f84806f8ecef261e92d666d12f909a89054\n",
            "  Stored in directory: /root/.cache/pip/wheels/29/3c/fd/7ce5c3f0666dab31a50123635e6fb5e19ceb42ce38d4e58f45\n",
            "Successfully built sacremoses\n",
            "Installing collected packages: sacremoses, sentencepiece, tokenizers, transformers\n",
            "  Found existing installation: tokenizers 0.8.1\n",
            "    Uninstalling tokenizers-0.8.1:\n",
            "      Successfully uninstalled tokenizers-0.8.1\n",
            "Successfully installed sacremoses-0.0.43 sentencepiece-0.1.91 tokenizers-0.8.1rc1 transformers-3.0.2\n"
          ],
          "name": "stdout"
        }
      ]
    },
    {
      "cell_type": "markdown",
      "metadata": {
        "id": "SoKoiyUEylkJ",
        "colab_type": "text"
      },
      "source": [
        "Imports"
      ]
    },
    {
      "cell_type": "code",
      "metadata": {
        "id": "TthZlyyJyY3T",
        "colab_type": "code",
        "colab": {}
      },
      "source": [
        "import os\n",
        "import torch\n",
        "import numpy as np\n",
        "import pandas as pd\n",
        "from transformers import BertConfig, BertForMaskedLM, BertModel\n",
        "from transformers import Trainer, TrainingArguments\n",
        "from tokenizers import BertWordPieceTokenizer"
      ],
      "execution_count": null,
      "outputs": []
    },
    {
      "cell_type": "code",
      "metadata": {
        "id": "2JLZZrO1lKy_",
        "colab_type": "code",
        "colab": {}
      },
      "source": [
        "from _kmers import BERT16SKmerDataset, KmerTokenizer\n",
        "from _collator import DataCollatorForBertWordPieceTokenizer"
      ],
      "execution_count": null,
      "outputs": []
    },
    {
      "cell_type": "markdown",
      "metadata": {
        "id": "lkAMgNxK4khv",
        "colab_type": "text"
      },
      "source": [
        "Mount Drive"
      ]
    },
    {
      "cell_type": "code",
      "metadata": {
        "id": "-J1ZQJuPZKst",
        "colab_type": "code",
        "colab": {
          "base_uri": "https://localhost:8080/",
          "height": 122
        },
        "outputId": "004a1df4-ccb7-4cf6-9420-c37a561d3e8a"
      },
      "source": [
        "from google.colab import drive\n",
        "drive.mount('/content/drive')"
      ],
      "execution_count": null,
      "outputs": [
        {
          "output_type": "stream",
          "text": [
            "Go to this URL in a browser: https://accounts.google.com/o/oauth2/auth?client_id=947318989803-6bn6qk8qdgf4n4g3pfee6491hc0brc4i.apps.googleusercontent.com&redirect_uri=urn%3aietf%3awg%3aoauth%3a2.0%3aoob&response_type=code&scope=email%20https%3a%2f%2fwww.googleapis.com%2fauth%2fdocs.test%20https%3a%2f%2fwww.googleapis.com%2fauth%2fdrive%20https%3a%2f%2fwww.googleapis.com%2fauth%2fdrive.photos.readonly%20https%3a%2f%2fwww.googleapis.com%2fauth%2fpeopleapi.readonly\n",
            "\n",
            "Enter your authorization code:\n",
            "··········\n",
            "Mounted at /content/drive\n"
          ],
          "name": "stdout"
        }
      ]
    },
    {
      "cell_type": "code",
      "metadata": {
        "id": "upDeEcu58OV2",
        "colab_type": "code",
        "colab": {}
      },
      "source": [
        "drive_path = './drive/My Drive/Colab Notebooks/NLP/kmer_model'"
      ],
      "execution_count": null,
      "outputs": []
    },
    {
      "cell_type": "markdown",
      "metadata": {
        "id": "dvHYuIuj1BcM",
        "colab_type": "text"
      },
      "source": [
        "Check Resources"
      ]
    },
    {
      "cell_type": "code",
      "metadata": {
        "id": "a3Xj2H8S0uNV",
        "colab_type": "code",
        "colab": {
          "base_uri": "https://localhost:8080/",
          "height": 51
        },
        "outputId": "91d494ce-499e-40d9-bdf4-f0b834f6fd5a"
      },
      "source": [
        "# Check that we have a GPU\n",
        "!nvidia-smi"
      ],
      "execution_count": null,
      "outputs": [
        {
          "output_type": "stream",
          "text": [
            "NVIDIA-SMI has failed because it couldn't communicate with the NVIDIA driver. Make sure that the latest NVIDIA driver is installed and running.\n",
            "\n"
          ],
          "name": "stdout"
        }
      ]
    },
    {
      "cell_type": "code",
      "metadata": {
        "id": "MAyNR0iZ1EZf",
        "colab_type": "code",
        "colab": {
          "base_uri": "https://localhost:8080/",
          "height": 34
        },
        "outputId": "63fd12c1-4e4d-480a-f594-f695eb454545"
      },
      "source": [
        "# Check that PyTorch sees it\n",
        "torch.cuda.is_available()"
      ],
      "execution_count": null,
      "outputs": [
        {
          "output_type": "execute_result",
          "data": {
            "text/plain": [
              "True"
            ]
          },
          "metadata": {
            "tags": []
          },
          "execution_count": 9
        }
      ]
    },
    {
      "cell_type": "markdown",
      "metadata": {
        "id": "bnttFWhD1fWs",
        "colab_type": "text"
      },
      "source": [
        "Prepare Model Config"
      ]
    },
    {
      "cell_type": "code",
      "metadata": {
        "id": "UvU7OoQ31GX2",
        "colab_type": "code",
        "colab": {}
      },
      "source": [
        "vocab_size = 14989\n",
        "k = 6"
      ],
      "execution_count": null,
      "outputs": []
    },
    {
      "cell_type": "code",
      "metadata": {
        "id": "lb3LtlN71jrs",
        "colab_type": "code",
        "colab": {}
      },
      "source": [
        "config = BertConfig(\n",
        "    vocab_size=vocab_size,\n",
        "    hidden_size=256,\n",
        "    intermediate_size=1024,\n",
        "    num_hidden_layers=4,\n",
        "    num_attention_heads=4,\n",
        "    max_position_embeddings=512\n",
        ")"
      ],
      "execution_count": null,
      "outputs": []
    },
    {
      "cell_type": "markdown",
      "metadata": {
        "id": "_rt6S95e1nRe",
        "colab_type": "text"
      },
      "source": [
        "Create BERT model"
      ]
    },
    {
      "cell_type": "code",
      "metadata": {
        "id": "vxfuGnuF1lP5",
        "colab_type": "code",
        "colab": {
          "base_uri": "https://localhost:8080/",
          "height": 34
        },
        "outputId": "f9d7073e-a0b2-46eb-b6b5-2b15fff6895b"
      },
      "source": [
        "model = BertForMaskedLM(config=config)\n",
        "\n",
        "print(f\"BERT model has {model.num_parameters()/10**6}M parameters\")"
      ],
      "execution_count": null,
      "outputs": [
        {
          "output_type": "stream",
          "text": [
            "BERT model has 7.275405M parameters\n"
          ],
          "name": "stdout"
        }
      ]
    },
    {
      "cell_type": "markdown",
      "metadata": {
        "id": "314dwNpA1raZ",
        "colab_type": "text"
      },
      "source": [
        "Create Datatset"
      ]
    },
    {
      "cell_type": "code",
      "metadata": {
        "id": "kxoBaUjM1p36",
        "colab_type": "code",
        "colab": {}
      },
      "source": [
        "vocab_path = os.path.join(drive_path, 'kmer_vocab.txt')\n",
        "data_path = os.path.join(drive_path, 'SILVA_parsed_V2.tsv')"
      ],
      "execution_count": null,
      "outputs": []
    },
    {
      "cell_type": "code",
      "metadata": {
        "id": "jTni8V-U1vF6",
        "colab_type": "code",
        "colab": {
          "base_uri": "https://localhost:8080/",
          "height": 71
        },
        "outputId": "9467dc54-d00c-485a-9e36-5c804bb7f9d5"
      },
      "source": [
        "dataset = BERT16SKmerDataset(\n",
        "    vocab_path=vocab_path,\n",
        "    data_path=data_path,\n",
        "    block_size=512,\n",
        "    k=k\n",
        ")"
      ],
      "execution_count": null,
      "outputs": [
        {
          "output_type": "stream",
          "text": [
            "/usr/local/lib/python3.6/dist-packages/IPython/core/interactiveshell.py:2822: DtypeWarning: Columns (12) have mixed types.Specify dtype option on import or set low_memory=False.\n",
            "  if self.run_code(code, result):\n"
          ],
          "name": "stderr"
        }
      ]
    },
    {
      "cell_type": "markdown",
      "metadata": {
        "id": "ACTjWIM517rf",
        "colab_type": "text"
      },
      "source": [
        "Crete Data Collator"
      ]
    },
    {
      "cell_type": "code",
      "metadata": {
        "id": "QaL-v1Kz19OV",
        "colab_type": "code",
        "colab": {}
      },
      "source": [
        "tokenizer = KmerTokenizer(\n",
        "    vocab_path\n",
        ")\n",
        "\n",
        "tokenizer.enable_padding(length=512)"
      ],
      "execution_count": null,
      "outputs": []
    },
    {
      "cell_type": "code",
      "metadata": {
        "id": "nM-MCvBT1_1i",
        "colab_type": "code",
        "colab": {
          "base_uri": "https://localhost:8080/",
          "height": 34
        },
        "outputId": "4a429eee-8a5d-4dcd-aaba-c0629cd58126"
      },
      "source": [
        "len(tokenizer.get_vocab())"
      ],
      "execution_count": null,
      "outputs": [
        {
          "output_type": "execute_result",
          "data": {
            "text/plain": [
              "14989"
            ]
          },
          "metadata": {
            "tags": []
          },
          "execution_count": 14
        }
      ]
    },
    {
      "cell_type": "code",
      "metadata": {
        "id": "kwB4Qo_X2BGY",
        "colab_type": "code",
        "colab": {}
      },
      "source": [
        "data_collator = DataCollatorForBertWordPieceTokenizer(\n",
        "    tokenizer=tokenizer, mlm=True, mlm_probability=0.15\n",
        ")"
      ],
      "execution_count": null,
      "outputs": []
    },
    {
      "cell_type": "code",
      "metadata": {
        "id": "xMu0YWZm2CkZ",
        "colab_type": "code",
        "colab": {
          "base_uri": "https://localhost:8080/",
          "height": 34
        },
        "outputId": "7c3069c3-a7a7-49ba-fc60-459089a495cd"
      },
      "source": [
        "model(data_collator.collate_batch([dataset[0]])['input_ids'])[0].shape"
      ],
      "execution_count": null,
      "outputs": [
        {
          "output_type": "execute_result",
          "data": {
            "text/plain": [
              "torch.Size([1, 512, 14989])"
            ]
          },
          "metadata": {
            "tags": []
          },
          "execution_count": 16
        }
      ]
    },
    {
      "cell_type": "markdown",
      "metadata": {
        "id": "6JbU5Qzv2Ekb",
        "colab_type": "text"
      },
      "source": [
        "Config Training"
      ]
    },
    {
      "cell_type": "code",
      "metadata": {
        "id": "hnOFur9G2Fqj",
        "colab_type": "code",
        "colab": {}
      },
      "source": [
        "training_args = TrainingArguments(\n",
        "    output_dir=os.path.join(drive_path, 'checkpoints'),\n",
        "    overwrite_output_dir=True,\n",
        "    num_train_epochs=3,\n",
        "    per_device_train_batch_size=40,\n",
        "    save_steps=10_000,\n",
        "    logging_steps=500,\n",
        "    save_total_limit=2,\n",
        "    learning_rate=5e-4,\n",
        ")"
      ],
      "execution_count": null,
      "outputs": []
    },
    {
      "cell_type": "code",
      "metadata": {
        "id": "-hbVFEty84jg",
        "colab_type": "code",
        "colab": {}
      },
      "source": [
        "from typing import Callable, Dict, List, Optional, Tuple\n",
        "import json\n",
        "from transformers.optimization import get_constant_schedule_with_warmup\n",
        "\n",
        "class CustomTrainer(Trainer):\n",
        "\n",
        "    def _log(self, logs: Dict[str, float], iterator: Optional = None) -> None:\n",
        "      if self.epoch is not None:\n",
        "          logs[\"epoch\"] = self.epoch\n",
        "\n",
        "      output = json.dumps({**logs, **{\"step\": self.global_step}})\n",
        "      print(output)\n",
        "  \n",
        "    def get_optimizers(self, num_training_steps: int) -> Tuple[torch.optim.Optimizer, torch.optim.lr_scheduler.LambdaLR]:\n",
        "        optimizer, _ = super(CustomTrainer, self).get_optimizers(num_training_steps)\n",
        "        scheduler = get_constant_schedule_with_warmup(optimizer, num_warmup_steps=self.args.warmup_steps)\n",
        "        return optimizer, scheduler"
      ],
      "execution_count": null,
      "outputs": []
    },
    {
      "cell_type": "code",
      "metadata": {
        "id": "J559coch2HWo",
        "colab_type": "code",
        "colab": {
          "base_uri": "https://localhost:8080/",
          "height": 173
        },
        "outputId": "ddf47679-75f5-4c26-ba3e-4819d4bb7553"
      },
      "source": [
        "trainer = CustomTrainer(\n",
        "    model=model,\n",
        "    args=training_args,\n",
        "    data_collator=data_collator,\n",
        "    train_dataset=dataset,\n",
        "    prediction_loss_only=True,\n",
        ")"
      ],
      "execution_count": null,
      "outputs": [
        {
          "output_type": "stream",
          "text": [
            "/usr/local/lib/python3.6/dist-packages/torch/cuda/__init__.py:125: UserWarning: \n",
            "Tesla T4 with CUDA capability sm_75 is not compatible with the current PyTorch installation.\n",
            "The current PyTorch install supports CUDA capabilities sm_37 sm_50 sm_60 sm_70.\n",
            "If you want to use the Tesla T4 GPU with PyTorch, please check the instructions at https://pytorch.org/get-started/locally/\n",
            "\n",
            "  warnings.warn(incompatible_device_warn.format(device_name, capability, \" \".join(arch_list), device_name))\n",
            "/usr/local/lib/python3.6/dist-packages/transformers/trainer.py:226: FutureWarning: The `data_collator` should now be a simple callable (function, class with `__call__`), classes with a `collate_batch` are deprecated and won't be supported in a future version.\n",
            "  FutureWarning,\n"
          ],
          "name": "stderr"
        }
      ]
    },
    {
      "cell_type": "markdown",
      "metadata": {
        "id": "RabmaM6Z2KD0",
        "colab_type": "text"
      },
      "source": [
        "Train!"
      ]
    },
    {
      "cell_type": "code",
      "metadata": {
        "id": "Cek_sh9e2Iu5",
        "colab_type": "code",
        "colab": {
          "base_uri": "https://localhost:8080/",
          "height": 1000,
          "referenced_widgets": [
            "c52fbb3a381541ba88cb4de6982d37d6",
            "0a686acfddda4459a6aa200d72d2acec",
            "39efe3afb8854c8fac57abca54736e49",
            "8ec7c386995e4f218d05c178604f5047",
            "7e994ea010884d459a2f2192ab87d43d",
            "d7e1e8949ace44588a778af0de885eb0",
            "8a1ecb43de0642529983255eb3166d50",
            "8d646dda53ce45e2b785e008a18cb0a6",
            "8f5d0d73b6df49389cbdb33a08a75bdb",
            "b1ca2b4fca5042e4b5603a82d0c3a6c4",
            "d4305079d4b740239c7e3678d32ca5b4",
            "31267663bb464331b47b4975d219395f",
            "332c29d5aef34d4b8f3a514bb4830310",
            "f2767623d0b94d76a9ce47ed58793a8c",
            "7eaa4f091e924ae69f915084f217dda0",
            "79453649c1c84a2abfb05b7c4dc67812",
            "c8f71df1ac574859b171b751ed6d2dbd",
            "4d55620a5fe84edebb54138e894f34cf",
            "369f3777a60f46c58ea977a05a88d230",
            "f7d1ca946e34449ba741f3120c49c194",
            "cde169cf4154433297142db0a1f87484",
            "7032347978a74d0aa6e5bc3285d84441",
            "cf4fdfeb034344adaf9bdea443299f0e",
            "f371c30b58f44829be75a9bb96b55521",
            "61dcd1f3056b4a889375572f959a62da",
            "2bc95967865b43368ab7a847b6c80653",
            "c05cf1b338ed4978a8c86bfb23387c09",
            "4e145fff9c254622858249ec830ea26e",
            "e8a95300d92f4035b8f46e9c603ba5b2",
            "d2eaff55f8f8493294883d4bb4291667",
            "87f68880831e477cbcc127673bfa6428",
            "4d2ec3aea58642deaf3aa4f2c25a9e0e"
          ]
        },
        "outputId": "c455d7a0-d8e9-45c7-a8b1-c494251c79fa"
      },
      "source": [
        "%%time\n",
        "trainer.train()"
      ],
      "execution_count": null,
      "outputs": [
        {
          "output_type": "display_data",
          "data": {
            "application/vnd.jupyter.widget-view+json": {
              "model_id": "c52fbb3a381541ba88cb4de6982d37d6",
              "version_minor": 0,
              "version_major": 2
            },
            "text/plain": [
              "HBox(children=(FloatProgress(value=0.0, description='Epoch', max=3.0, style=ProgressStyle(description_width='i…"
            ]
          },
          "metadata": {
            "tags": []
          }
        },
        {
          "output_type": "display_data",
          "data": {
            "application/vnd.jupyter.widget-view+json": {
              "model_id": "8f5d0d73b6df49389cbdb33a08a75bdb",
              "version_minor": 0,
              "version_major": 2
            },
            "text/plain": [
              "HBox(children=(FloatProgress(value=0.0, description='Iteration', max=10801.0, style=ProgressStyle(description_…"
            ]
          },
          "metadata": {
            "tags": []
          }
        },
        {
          "output_type": "stream",
          "text": [
            "{\"loss\": 6.5577001962661745, \"learning_rate\": 0.0005, \"epoch\": 0.04629200999907416, \"step\": 500}\n",
            "{\"loss\": 4.894051997184754, \"learning_rate\": 0.0005, \"epoch\": 0.09258401999814832, \"step\": 1000}\n",
            "{\"loss\": 4.049568943500518, \"learning_rate\": 0.0005, \"epoch\": 0.13887602999722248, \"step\": 1500}\n",
            "{\"loss\": 3.6060651655197145, \"learning_rate\": 0.0005, \"epoch\": 0.18516803999629664, \"step\": 2000}\n",
            "{\"loss\": 3.2885485310554503, \"learning_rate\": 0.0005, \"epoch\": 0.2314600499953708, \"step\": 2500}\n",
            "{\"loss\": 3.047599423408508, \"learning_rate\": 0.0005, \"epoch\": 0.27775205999444497, \"step\": 3000}\n",
            "{\"loss\": 2.8713842153549196, \"learning_rate\": 0.0005, \"epoch\": 0.32404406999351915, \"step\": 3500}\n",
            "{\"loss\": 2.7416285972595213, \"learning_rate\": 0.0005, \"epoch\": 0.37033607999259327, \"step\": 4000}\n",
            "{\"loss\": 2.6016853723526, \"learning_rate\": 0.0005, \"epoch\": 0.41662808999166745, \"step\": 4500}\n",
            "{\"loss\": 2.529984164237976, \"learning_rate\": 0.0005, \"epoch\": 0.4629200999907416, \"step\": 5000}\n",
            "{\"loss\": 2.4390352659225463, \"learning_rate\": 0.0005, \"epoch\": 0.5092121099898158, \"step\": 5500}\n",
            "{\"loss\": 2.3835537836551666, \"learning_rate\": 0.0005, \"epoch\": 0.5555041199888899, \"step\": 6000}\n",
            "{\"loss\": 2.3352914390563964, \"learning_rate\": 0.0005, \"epoch\": 0.6017961299879641, \"step\": 6500}\n",
            "{\"loss\": 2.288525399684906, \"learning_rate\": 0.0005, \"epoch\": 0.6480881399870383, \"step\": 7000}\n",
            "{\"loss\": 2.241731424331665, \"learning_rate\": 0.0005, \"epoch\": 0.6943801499861124, \"step\": 7500}\n",
            "{\"loss\": 2.189604766368866, \"learning_rate\": 0.0005, \"epoch\": 0.7406721599851865, \"step\": 8000}\n",
            "{\"loss\": 2.1639165287017823, \"learning_rate\": 0.0005, \"epoch\": 0.7869641699842607, \"step\": 8500}\n",
            "{\"loss\": 2.123762379646301, \"learning_rate\": 0.0005, \"epoch\": 0.8332561799833349, \"step\": 9000}\n",
            "{\"loss\": 2.1114206767082213, \"learning_rate\": 0.0005, \"epoch\": 0.879548189982409, \"step\": 9500}\n",
            "{\"loss\": 2.0891398680210114, \"learning_rate\": 0.0005, \"epoch\": 0.9258401999814831, \"step\": 10000}\n"
          ],
          "name": "stdout"
        },
        {
          "output_type": "stream",
          "text": [
            "/usr/local/lib/python3.6/dist-packages/torch/optim/lr_scheduler.py:200: UserWarning: Please also save or load the state of the optimzer when saving or loading the scheduler.\n",
            "  warnings.warn(SAVE_STATE_WARNING, UserWarning)\n"
          ],
          "name": "stderr"
        },
        {
          "output_type": "stream",
          "text": [
            "{\"loss\": 2.0360802092552186, \"learning_rate\": 0.0005, \"epoch\": 0.9721322099805574, \"step\": 10500}\n",
            "\n"
          ],
          "name": "stdout"
        },
        {
          "output_type": "display_data",
          "data": {
            "application/vnd.jupyter.widget-view+json": {
              "model_id": "c8f71df1ac574859b171b751ed6d2dbd",
              "version_minor": 0,
              "version_major": 2
            },
            "text/plain": [
              "HBox(children=(FloatProgress(value=0.0, description='Iteration', max=10801.0, style=ProgressStyle(description_…"
            ]
          },
          "metadata": {
            "tags": []
          }
        },
        {
          "output_type": "stream",
          "text": [
            "{\"loss\": 2.0271493604183197, \"learning_rate\": 0.0005, \"epoch\": 1.0184242199796316, \"step\": 11000}\n",
            "{\"loss\": 2.0041087489128113, \"learning_rate\": 0.0005, \"epoch\": 1.0647162299787056, \"step\": 11500}\n",
            "{\"loss\": 1.9763193168640136, \"learning_rate\": 0.0005, \"epoch\": 1.1110082399777799, \"step\": 12000}\n",
            "{\"loss\": 1.9649719727039336, \"learning_rate\": 0.0005, \"epoch\": 1.157300249976854, \"step\": 12500}\n",
            "{\"loss\": 1.9429760653972625, \"learning_rate\": 0.0005, \"epoch\": 1.2035922599759281, \"step\": 13000}\n",
            "{\"loss\": 1.9328555047512055, \"learning_rate\": 0.0005, \"epoch\": 1.2498842699750023, \"step\": 13500}\n",
            "{\"loss\": 1.901951913833618, \"learning_rate\": 0.0005, \"epoch\": 1.2961762799740764, \"step\": 14000}\n",
            "{\"loss\": 1.8865125699043275, \"learning_rate\": 0.0005, \"epoch\": 1.3424682899731506, \"step\": 14500}\n",
            "{\"loss\": 1.8715765659809112, \"learning_rate\": 0.0005, \"epoch\": 1.3887602999722248, \"step\": 15000}\n",
            "{\"loss\": 1.8618672909736633, \"learning_rate\": 0.0005, \"epoch\": 1.435052309971299, \"step\": 15500}\n",
            "{\"loss\": 1.8358393681049348, \"learning_rate\": 0.0005, \"epoch\": 1.481344319970373, \"step\": 16000}\n",
            "{\"loss\": 1.8177848529815674, \"learning_rate\": 0.0005, \"epoch\": 1.5276363299694473, \"step\": 16500}\n",
            "{\"loss\": 1.8135158846378325, \"learning_rate\": 0.0005, \"epoch\": 1.5739283399685213, \"step\": 17000}\n",
            "{\"loss\": 1.8016081550121308, \"learning_rate\": 0.0005, \"epoch\": 1.6202203499675956, \"step\": 17500}\n",
            "{\"loss\": 1.781851166009903, \"learning_rate\": 0.0005, \"epoch\": 1.6665123599666698, \"step\": 18000}\n",
            "{\"loss\": 1.7728464858531952, \"learning_rate\": 0.0005, \"epoch\": 1.712804369965744, \"step\": 18500}\n",
            "{\"loss\": 1.7608617646694182, \"learning_rate\": 0.0005, \"epoch\": 1.759096379964818, \"step\": 19000}\n",
            "{\"loss\": 1.7450453877449035, \"learning_rate\": 0.0005, \"epoch\": 1.8053883899638923, \"step\": 19500}\n",
            "{\"loss\": 1.7461544177532196, \"learning_rate\": 0.0005, \"epoch\": 1.8516803999629663, \"step\": 20000}\n",
            "{\"loss\": 1.7247806499004363, \"learning_rate\": 0.0005, \"epoch\": 1.8979724099620405, \"step\": 20500}\n",
            "{\"loss\": 1.7160443077087402, \"learning_rate\": 0.0005, \"epoch\": 1.9442644199611148, \"step\": 21000}\n",
            "{\"loss\": 1.6880413146018982, \"learning_rate\": 0.0005, \"epoch\": 1.990556429960189, \"step\": 21500}\n",
            "\n"
          ],
          "name": "stdout"
        },
        {
          "output_type": "display_data",
          "data": {
            "application/vnd.jupyter.widget-view+json": {
              "model_id": "61dcd1f3056b4a889375572f959a62da",
              "version_minor": 0,
              "version_major": 2
            },
            "text/plain": [
              "HBox(children=(FloatProgress(value=0.0, description='Iteration', max=10801.0, style=ProgressStyle(description_…"
            ]
          },
          "metadata": {
            "tags": []
          }
        },
        {
          "output_type": "stream",
          "text": [
            "{\"loss\": 1.6892852051258087, \"learning_rate\": 0.0005, \"epoch\": 2.0368484399592632, \"step\": 22000}\n",
            "{\"loss\": 1.6666832859516143, \"learning_rate\": 0.0005, \"epoch\": 2.083140449958337, \"step\": 22500}\n",
            "{\"loss\": 1.6708894917964936, \"learning_rate\": 0.0005, \"epoch\": 2.1294324599574113, \"step\": 23000}\n",
            "{\"loss\": 1.6473406405448914, \"learning_rate\": 0.0005, \"epoch\": 2.1757244699564855, \"step\": 23500}\n",
            "{\"loss\": 1.6531950652599334, \"learning_rate\": 0.0005, \"epoch\": 2.2220164799555597, \"step\": 24000}\n",
            "{\"loss\": 1.636396633386612, \"learning_rate\": 0.0005, \"epoch\": 2.268308489954634, \"step\": 24500}\n",
            "{\"loss\": 1.62535635638237, \"learning_rate\": 0.0005, \"epoch\": 2.314600499953708, \"step\": 25000}\n",
            "{\"loss\": 1.5994646651744842, \"learning_rate\": 0.0005, \"epoch\": 2.360892509952782, \"step\": 25500}\n",
            "{\"loss\": 1.6134627084732056, \"learning_rate\": 0.0005, \"epoch\": 2.4071845199518562, \"step\": 26000}\n",
            "{\"loss\": 1.5922247302532195, \"learning_rate\": 0.0005, \"epoch\": 2.4534765299509305, \"step\": 26500}\n",
            "{\"loss\": 1.5921565408706666, \"learning_rate\": 0.0005, \"epoch\": 2.4997685399500047, \"step\": 27000}\n",
            "{\"loss\": 1.57939155292511, \"learning_rate\": 0.0005, \"epoch\": 2.546060549949079, \"step\": 27500}\n",
            "{\"loss\": 1.5661031677722932, \"learning_rate\": 0.0005, \"epoch\": 2.5923525599481527, \"step\": 28000}\n",
            "{\"loss\": 1.5714472906589507, \"learning_rate\": 0.0005, \"epoch\": 2.638644569947227, \"step\": 28500}\n",
            "{\"loss\": 1.5596146452426911, \"learning_rate\": 0.0005, \"epoch\": 2.684936579946301, \"step\": 29000}\n",
            "{\"loss\": 1.5578667500019074, \"learning_rate\": 0.0005, \"epoch\": 2.7312285899453754, \"step\": 29500}\n",
            "{\"loss\": 1.5360439448356629, \"learning_rate\": 0.0005, \"epoch\": 2.7775205999444497, \"step\": 30000}\n",
            "{\"loss\": 1.5328199963569642, \"learning_rate\": 0.0005, \"epoch\": 2.823812609943524, \"step\": 30500}\n",
            "{\"loss\": 1.531165649652481, \"learning_rate\": 0.0005, \"epoch\": 2.870104619942598, \"step\": 31000}\n",
            "{\"loss\": 1.5328463213443757, \"learning_rate\": 0.0005, \"epoch\": 2.916396629941672, \"step\": 31500}\n",
            "{\"loss\": 1.515609335899353, \"learning_rate\": 0.0005, \"epoch\": 2.962688639940746, \"step\": 32000}\n",
            "\n",
            "\n",
            "CPU times: user 2h 39min 16s, sys: 1h 47min 42s, total: 4h 26min 59s\n",
            "Wall time: 4h 28min 45s\n"
          ],
          "name": "stdout"
        },
        {
          "output_type": "execute_result",
          "data": {
            "text/plain": [
              "TrainOutput(global_step=32403, training_loss=2.0962373362983175)"
            ]
          },
          "metadata": {
            "tags": []
          },
          "execution_count": 20
        }
      ]
    },
    {
      "cell_type": "code",
      "metadata": {
        "id": "BRpz7mg6AWQJ",
        "colab_type": "code",
        "colab": {}
      },
      "source": [
        "trainer.save_model(drive_path)"
      ],
      "execution_count": null,
      "outputs": []
    },
    {
      "cell_type": "markdown",
      "metadata": {
        "id": "qpWqFRJmGkI0",
        "colab_type": "text"
      },
      "source": [
        "Extract Embeddings"
      ]
    },
    {
      "cell_type": "code",
      "metadata": {
        "id": "WF7-pMgBdtQv",
        "colab_type": "code",
        "colab": {}
      },
      "source": [
        "loaded_model = BertModel.from_pretrained(drive_path)"
      ],
      "execution_count": null,
      "outputs": []
    },
    {
      "cell_type": "code",
      "metadata": {
        "id": "DqcVNJzqJ6oj",
        "colab_type": "code",
        "colab": {}
      },
      "source": [
        "batch_size = 32\n",
        "dataloader = torch.utils.data.DataLoader(\n",
        "                dataset=dataset,\n",
        "                batch_size=batch_size,\n",
        "                sampler=torch.utils.data.SequentialSampler(dataset),\n",
        "                num_workers=0,\n",
        "                pin_memory=True\n",
        ")"
      ],
      "execution_count": null,
      "outputs": []
    },
    {
      "cell_type": "code",
      "metadata": {
        "id": "WlmF-jijKZDi",
        "colab_type": "code",
        "colab": {}
      },
      "source": [
        "from tqdm import tqdm"
      ],
      "execution_count": null,
      "outputs": []
    },
    {
      "cell_type": "code",
      "metadata": {
        "id": "30HNMuutIzhj",
        "colab_type": "code",
        "colab": {
          "base_uri": "https://localhost:8080/",
          "height": 68
        },
        "outputId": "6bc3cfa6-3dd9-4a8a-dd1e-b05ed967b85f"
      },
      "source": [
        "%%time \n",
        "\n",
        "averaged_embeddings = torch.tensor([], dtype=torch.float)\n",
        "first_batch = True\n",
        "\n",
        "for batch in tqdm(dataloader, position=0, leave=True):\n",
        "    model_outputs = loaded_model.embeddings(batch).mean(dim=1)\n",
        "    if first_batch:\n",
        "      assert batch.shape == torch.Size([batch_size, 512])\n",
        "      assert model_outputs.shape == torch.Size([batch_size, 256])\n",
        "      first_batch = False\n",
        "\n",
        "    averaged_embeddings = torch.cat((averaged_embeddings, model_outputs.detach().cpu()), 0)"
      ],
      "execution_count": null,
      "outputs": [
        {
          "output_type": "stream",
          "text": [
            "100%|██████████| 13502/13502 [24:58<00:00,  9.01it/s]"
          ],
          "name": "stderr"
        },
        {
          "output_type": "stream",
          "text": [
            "CPU times: user 23min 57s, sys: 1min 5s, total: 25min 3s\n",
            "Wall time: 24min 58s\n"
          ],
          "name": "stdout"
        },
        {
          "output_type": "stream",
          "text": [
            "\n"
          ],
          "name": "stderr"
        }
      ]
    },
    {
      "cell_type": "code",
      "metadata": {
        "id": "MS8l2qiLe9TL",
        "colab_type": "code",
        "colab": {}
      },
      "source": [
        "torch.save(averaged_embeddings, os.path.join(drive_path, 'averaged_embeddings'))"
      ],
      "execution_count": null,
      "outputs": []
    },
    {
      "cell_type": "code",
      "metadata": {
        "id": "9iKaB-U3mjB8",
        "colab_type": "code",
        "colab": {}
      },
      "source": [
        "assert averaged_embeddings.shape[0] == len(dataset)"
      ],
      "execution_count": null,
      "outputs": []
    },
    {
      "cell_type": "markdown",
      "metadata": {
        "id": "GSPA0wGdRJGH",
        "colab_type": "text"
      },
      "source": [
        "Extract Weighted Embedding Without Token Padding"
      ]
    },
    {
      "cell_type": "code",
      "metadata": {
        "id": "ns_dG1ZIRrg2",
        "colab_type": "code",
        "colab": {}
      },
      "source": [
        "token_weights_df = pd.read_csv(os.path.join(drive_path, 'kmer_token_weights.tsv'), sep='\\t')\n",
        "token_weights = token_weights_df.set_index('token')['weight2'].to_dict()"
      ],
      "execution_count": null,
      "outputs": []
    },
    {
      "cell_type": "code",
      "metadata": {
        "id": "tt_x6p-Mj1_f",
        "colab_type": "code",
        "colab": {}
      },
      "source": [
        "loaded_model = BertModel.from_pretrained(drive_path)"
      ],
      "execution_count": null,
      "outputs": []
    },
    {
      "cell_type": "code",
      "metadata": {
        "id": "dhY7brD_s63N",
        "colab_type": "code",
        "colab": {}
      },
      "source": [
        "unpadded_tokenizer = KmerTokenizer(vocab_path)"
      ],
      "execution_count": null,
      "outputs": []
    },
    {
      "cell_type": "code",
      "metadata": {
        "id": "YrPap7FxRQ2_",
        "colab_type": "code",
        "colab": {
          "base_uri": "https://localhost:8080/",
          "height": 34
        },
        "outputId": "aa4e5024-f66f-472d-ae7c-f0e9f5992199"
      },
      "source": [
        "averaged_embeddings = torch.tensor([], dtype=torch.float)\n",
        "\n",
        "for sample in tqdm(dataset.samples[:50000], position=0, leave=True):\n",
        "\n",
        "  sample_splitted = dataset.split_seq_into_kmers(sample)\n",
        "  tokens = dataset.tokenizer.encode(sample_splitted)\n",
        "  embedding = loaded_model.embeddings(torch.tensor(tokens, dtype=torch.long).expand(1, -1))\n",
        "\n",
        "  tokens_unpadded = sample_splitted\n",
        "  tokens_ids_unpadded = unpadded_tokenizer.encode(sample_splitted, add_special_tokens=False)\n",
        "  original_len = len(tokens_ids_unpadded)\n",
        "\n",
        "  weights = np.array([token_weights[k] for k in tokens_unpadded])\n",
        "  weights_normalized = weights# / np.sum(weights)\n",
        "  weights_tensor = torch.tensor([w * np.ones([256]) for w in weights_normalized]).view(1, -1, 256)\n",
        "\n",
        "  averaged_embedding = torch.mul(embedding[:, 1:original_len + 1, :], weights_tensor).mean(dim=1)\n",
        "  averaged_embeddings = torch.cat((averaged_embeddings, averaged_embedding.detach().cpu()), 0)"
      ],
      "execution_count": null,
      "outputs": [
        {
          "output_type": "stream",
          "text": [
            "100%|██████████| 50000/50000 [15:58<00:00, 52.14it/s]\n"
          ],
          "name": "stderr"
        }
      ]
    },
    {
      "cell_type": "code",
      "metadata": {
        "id": "xYE5cLPSsrMl",
        "colab_type": "code",
        "colab": {}
      },
      "source": [
        "torch.save(averaged_embeddings, os.path.join(drive_path, 'averaged_embeddings_no_padding__weight2'))"
      ],
      "execution_count": null,
      "outputs": []
    },
    {
      "cell_type": "code",
      "metadata": {
        "id": "eQnbGsjbtdLp",
        "colab_type": "code",
        "colab": {}
      },
      "source": [
        "assert averaged_embeddings.shape[0] == len(dataset)"
      ],
      "execution_count": null,
      "outputs": []
    }
  ]
}