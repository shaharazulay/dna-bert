{
 "cells": [
  {
   "cell_type": "code",
   "execution_count": 1,
   "metadata": {},
   "outputs": [],
   "source": [
    "import time\n",
    "import numpy as np\n",
    "import pandas as pd\n",
    "from transformers import AdamW, get_linear_schedule_with_warmup\n",
    "import torch\n",
    "from torch import nn\n",
    "from torch.utils.data import dataloader\n",
    "\n",
    "from _classifier import BertClassifier, BERT16SKmerDatasetForPhylaClassification, GeneratePhylumLabels, TrainTestSplit"
   ]
  },
  {
   "cell_type": "markdown",
   "metadata": {},
   "source": [
    "### Add Phylum Lables to Dataset "
   ]
  },
  {
   "cell_type": "code",
   "execution_count": 2,
   "metadata": {},
   "outputs": [
    {
     "name": "stderr",
     "output_type": "stream",
     "text": [
      "/Users/shaharazulay/anaconda3/envs/dev/lib/python3.6/site-packages/IPython/core/interactiveshell.py:3242: DtypeWarning: Columns (12) have mixed types. Specify dtype option on import or set low_memory=False.\n",
      "  if (await self.run_code(code, result,  async_=asy)):\n"
     ]
    }
   ],
   "source": [
    "label_generator = GeneratePhylumLabels(data_path='SILVA_parsed_V2.tsv')\n",
    "label_generator.save('SILVA_parsed_V2__labeled.tsv')\n",
    "num_classes = label_generator.num_classes"
   ]
  },
  {
   "cell_type": "code",
   "execution_count": 3,
   "metadata": {},
   "outputs": [
    {
     "data": {
      "text/plain": [
       "array([41])"
      ]
     },
     "execution_count": 3,
     "metadata": {},
     "output_type": "execute_result"
    }
   ],
   "source": [
    "label_generator.other_label"
   ]
  },
  {
   "cell_type": "code",
   "execution_count": 3,
   "metadata": {},
   "outputs": [
    {
     "data": {
      "text/plain": [
       "42"
      ]
     },
     "execution_count": 3,
     "metadata": {},
     "output_type": "execute_result"
    }
   ],
   "source": [
    "num_classes"
   ]
  },
  {
   "cell_type": "markdown",
   "metadata": {},
   "source": [
    "### Train-Test Split "
   ]
  },
  {
   "cell_type": "code",
   "execution_count": 5,
   "metadata": {},
   "outputs": [
    {
     "name": "stderr",
     "output_type": "stream",
     "text": [
      "/Users/shaharazulay/anaconda3/envs/dev/lib/python3.6/site-packages/IPython/core/interactiveshell.py:3242: DtypeWarning: Columns (13) have mixed types. Specify dtype option on import or set low_memory=False.\n",
      "  if (await self.run_code(code, result,  async_=asy)):\n"
     ]
    }
   ],
   "source": [
    "train_df, test_df = TrainTestSplit('SILVA_parsed_V2__labeled.tsv').train_test_split()\n",
    "\n",
    "train_df.to_csv('SILVA_parsed_V2__labeled__train.tsv', sep='\\t')\n",
    "test_df.to_csv('SILVA_parsed_V2__labeled__test.tsv', sep='\\t')"
   ]
  },
  {
   "cell_type": "markdown",
   "metadata": {},
   "source": [
    "### Create Dataset "
   ]
  },
  {
   "cell_type": "code",
   "execution_count": 4,
   "metadata": {},
   "outputs": [
    {
     "name": "stderr",
     "output_type": "stream",
     "text": [
      "I0814 11:11:27.015621 4598826432 _kmers.py:66] Loading K-mer tokenizer using vocab file kmer_model/kmer_vocab.txt\n",
      "I0814 11:11:27.023921 4598826432 _kmers.py:70] Loading 16S dataset file at SILVA_parsed_V2__labeled__train.tsv...\n",
      "/Users/shaharazulay/anaconda3/envs/dev/lib/python3.6/site-packages/IPython/core/interactiveshell.py:3319: DtypeWarning: Columns (14) have mixed types. Specify dtype option on import or set low_memory=False.\n",
      "  exec(code_obj, self.user_global_ns, self.user_ns)\n",
      "I0814 11:11:31.415036 4598826432 _kmers.py:72] 16S corpus is of shape (345626, 16)\n",
      "I0814 11:11:31.427878 4598826432 _kmers.py:66] Loading K-mer tokenizer using vocab file kmer_model/kmer_vocab.txt\n",
      "I0814 11:11:31.436480 4598826432 _kmers.py:70] Loading 16S dataset file at SILVA_parsed_V2__labeled__test.tsv...\n",
      "I0814 11:11:32.555785 4598826432 _kmers.py:72] 16S corpus is of shape (86407, 16)\n"
     ]
    }
   ],
   "source": [
    "trainset = BERT16SKmerDatasetForPhylaClassification(\n",
    "    vocab_path='kmer_model/kmer_vocab.txt', \n",
    "    data_path='SILVA_parsed_V2__labeled__train.tsv')\n",
    "\n",
    "testset = BERT16SKmerDatasetForPhylaClassification(\n",
    "    vocab_path='kmer_model/kmer_vocab.txt', \n",
    "    data_path='SILVA_parsed_V2__labeled__test.tsv')"
   ]
  },
  {
   "cell_type": "code",
   "execution_count": 5,
   "metadata": {},
   "outputs": [],
   "source": [
    "batch_size = 32\n",
    "num_workers = 4"
   ]
  },
  {
   "cell_type": "code",
   "execution_count": 6,
   "metadata": {},
   "outputs": [],
   "source": [
    "train_loader = dataloader.DataLoader(\n",
    "    dataset=trainset,\n",
    "    batch_size=batch_size,\n",
    "    num_workers=num_workers\n",
    ")\n",
    "\n",
    "test_loader = dataloader.DataLoader(\n",
    "    dataset=testset,\n",
    "    batch_size=batch_size,\n",
    "    num_workers=num_workers\n",
    ")"
   ]
  },
  {
   "cell_type": "markdown",
   "metadata": {},
   "source": [
    "### Define Model "
   ]
  },
  {
   "cell_type": "code",
   "execution_count": 7,
   "metadata": {},
   "outputs": [
    {
     "name": "stdout",
     "output_type": "stream",
     "text": [
      "No GPU available, using the CPU instead.\n"
     ]
    }
   ],
   "source": [
    "if torch.cuda.is_available():       \n",
    "    device = torch.device(\"cuda\")\n",
    "    print(f'There are {torch.cuda.device_count()} GPU(s) available.')\n",
    "    print('Device name:', torch.cuda.get_device_name(0))\n",
    "\n",
    "else:\n",
    "    print('No GPU available, using the CPU instead.')\n",
    "    device = torch.device(\"cpu\")"
   ]
  },
  {
   "cell_type": "code",
   "execution_count": 9,
   "metadata": {},
   "outputs": [],
   "source": [
    "def initialize_model(epochs):\n",
    "    \"\"\"Initialize the Bert Classifier, the optimizer and the learning rate scheduler.\n",
    "    \"\"\"\n",
    "    # Instantiate Bert Classifier\n",
    "    bert_classifier = BertClassifier(path='kmer_model/', num_classes=num_classes, freeze_bert=False)\n",
    "\n",
    "    # Tell PyTorch to run the model on GPU\n",
    "    bert_classifier.to(device)\n",
    "\n",
    "    # Create the optimizer\n",
    "    optimizer = AdamW(\n",
    "        bert_classifier.parameters(),\n",
    "        lr=5e-5,    # Default learning rate\n",
    "        eps=1e-8    # Default epsilon value\n",
    "    )\n",
    "\n",
    "    # Total number of training steps\n",
    "    total_steps = len(trainset) * epochs\n",
    "\n",
    "    # Set up the learning rate scheduler\n",
    "    scheduler = get_linear_schedule_with_warmup(\n",
    "        optimizer,\n",
    "        num_warmup_steps=0, # Default value\n",
    "        num_training_steps=total_steps)\n",
    "    \n",
    "    return bert_classifier, optimizer, scheduler"
   ]
  },
  {
   "cell_type": "code",
   "execution_count": 10,
   "metadata": {},
   "outputs": [],
   "source": [
    "# Specify loss function\n",
    "loss_fn = nn.CrossEntropyLoss()"
   ]
  },
  {
   "cell_type": "markdown",
   "metadata": {},
   "source": [
    "### Define Train Loop "
   ]
  },
  {
   "cell_type": "code",
   "execution_count": 11,
   "metadata": {},
   "outputs": [],
   "source": [
    "def train(model, train_dataloader, val_dataloader=None, epochs=4, evaluation=False):\n",
    "    \"\"\"\n",
    "    Train loop.\n",
    "    \"\"\"\n",
    "    for epoch_i in range(epochs):\n",
    "        # Print the header of the result table\n",
    "        print(f\"{'Epoch':^7} | {'Batch':^15} | {'LR':^7} | {'Train Loss':^12} | {'Val Loss':^10} | {'Val Acc':^9} | {'Elapsed':^9}\")\n",
    "        print(\"-\"*90)\n",
    "\n",
    "        # Measure the elapsed time of each epoch\n",
    "        t0_epoch, t0_batch = time.time(), time.time()\n",
    "\n",
    "        total_loss, batch_loss, batch_counts = 0, 0, 0\n",
    "\n",
    "        model.train()\n",
    "        num_steps = len(train_dataloader)\n",
    "        for step, batch in enumerate(train_dataloader):\n",
    "              \n",
    "            batch_counts += 1\n",
    "            b_input_ids, b_labels = tuple(t.to(device) for t in batch)\n",
    "            model.zero_grad()\n",
    "            logits = model(b_input_ids)\n",
    "\n",
    "            loss = loss_fn(logits, b_labels.view(-1,))\n",
    "            batch_loss += loss.item()\n",
    "            total_loss += loss.item()\n",
    "\n",
    "            # back-propagation\n",
    "            loss.backward()\n",
    "            # clip the norm of the gradients to 1.0 to prevent \"exploding gradients\"\n",
    "            #torch.nn.utils.clip_grad_norm_(model.parameters(), 1.0)\n",
    "\n",
    "            optimizer.step()\n",
    "            scheduler.step()\n",
    "\n",
    "            if (step % 50 == 0 and step != 0) or (step == len(train_dataloader) - 1):\n",
    "                time_elapsed = time.time() - t0_batch\n",
    "                print(f\"{epoch_i + 1:^7} | {step:^7}/{num_steps:^7} | {np.round(scheduler.get_lr()[-1], 7):^7}| {batch_loss / batch_counts:^12.6f} | {'-':^10} | {'-':^9} | {time_elapsed:^9.2f}\")\n",
    "                batch_loss, batch_counts = 0, 0\n",
    "                t0_batch = time.time()           \n",
    "\n",
    "        avg_train_loss = total_loss / len(train_dataloader)\n",
    "\n",
    "        print(\"-\"*70)\n",
    "\n",
    "        if evaluation == True:\n",
    "            val_loss, val_accuracy = evaluate(model, val_dataloader)\n",
    "            time_elapsed = time.time() - t0_epoch\n",
    "            \n",
    "            print(f\"{epoch_i + 1:^7} | {'-':^15} | {'-':^7} | {avg_train_loss:^12.6f} | {val_loss:^10.6f} | {val_accuracy:^9.2f} | {time_elapsed:^9.2f}\")\n",
    "            print(\"-\"*90)\n",
    "        print(\"\\n\")\n"
   ]
  },
  {
   "cell_type": "code",
   "execution_count": 12,
   "metadata": {},
   "outputs": [],
   "source": [
    "def evaluate(model, val_dataloader):\n",
    "    \"\"\"\n",
    "    Evaluate model performance.\n",
    "    \"\"\"\n",
    "    model.eval()\n",
    "\n",
    "    val_accuracy = []\n",
    "    val_loss = []\n",
    "\n",
    "    for batch in val_dataloader:\n",
    "        b_input_ids, b_labels = tuple(t.to(device) for t in batch)\n",
    "\n",
    "        with torch.no_grad():\n",
    "            logits = model(b_input_ids)\n",
    "\n",
    "        loss = loss_fn(logits, b_labels.view(-1,))\n",
    "        val_loss.append(loss.item())\n",
    "\n",
    "        preds = torch.argmax(logits, dim=1).flatten()\n",
    "\n",
    "        accuracy = (preds == b_labels.view(-1,)).cpu().numpy().mean() * 100\n",
    "        val_accuracy.append(accuracy)\n",
    "\n",
    "    # compute the average accuracy and loss over the validation set.\n",
    "    val_loss = np.mean(val_loss)\n",
    "    val_accuracy = np.mean(val_accuracy)\n",
    "\n",
    "    return val_loss, val_accuracy"
   ]
  },
  {
   "cell_type": "markdown",
   "metadata": {},
   "source": [
    "### Train! "
   ]
  },
  {
   "cell_type": "code",
   "execution_count": null,
   "metadata": {
    "scrolled": true
   },
   "outputs": [
    {
     "name": "stderr",
     "output_type": "stream",
     "text": [
      "I0814 11:11:57.569875 4598826432 configuration_utils.py:263] loading configuration file kmer_model/config.json\n",
      "I0814 11:11:57.570791 4598826432 configuration_utils.py:301] Model config BertConfig {\n",
      "  \"architectures\": [\n",
      "    \"BertForMaskedLM\"\n",
      "  ],\n",
      "  \"attention_probs_dropout_prob\": 0.1,\n",
      "  \"gradient_checkpointing\": false,\n",
      "  \"hidden_act\": \"gelu\",\n",
      "  \"hidden_dropout_prob\": 0.1,\n",
      "  \"hidden_size\": 256,\n",
      "  \"initializer_range\": 0.02,\n",
      "  \"intermediate_size\": 1024,\n",
      "  \"layer_norm_eps\": 1e-12,\n",
      "  \"max_position_embeddings\": 512,\n",
      "  \"model_type\": \"bert\",\n",
      "  \"num_attention_heads\": 4,\n",
      "  \"num_hidden_layers\": 4,\n",
      "  \"pad_token_id\": 0,\n",
      "  \"type_vocab_size\": 2,\n",
      "  \"vocab_size\": 14989\n",
      "}\n",
      "\n",
      "I0814 11:11:57.572025 4598826432 modeling_utils.py:648] loading weights file kmer_model/pytorch_model.bin\n"
     ]
    },
    {
     "name": "stdout",
     "output_type": "stream",
     "text": [
      " Epoch  |      Batch      |   LR    |  Train Loss  |  Val Loss  |  Val Acc  |  Elapsed \n",
      "------------------------------------------------------------------------------------------\n"
     ]
    },
    {
     "name": "stderr",
     "output_type": "stream",
     "text": [
      "/Users/shaharazulay/anaconda3/envs/dev/lib/python3.6/site-packages/torch/optim/lr_scheduler.py:231: UserWarning: To get the last learning rate computed by the scheduler, please use `get_last_lr()`.\n",
      "  warnings.warn(\"To get the last learning rate computed by the scheduler, \"\n"
     ]
    },
    {
     "name": "stdout",
     "output_type": "stream",
     "text": [
      "   1    |   50   / 10801  |  5e-05 |   3.550413   |     -      |     -     |   9.74   \n",
      "   1    |   100  / 10801  |  5e-05 |   2.915901   |     -      |     -     |   9.33   \n",
      "   1    |   150  / 10801  |  5e-05 |   2.241002   |     -      |     -     |   9.34   \n",
      "   1    |   200  / 10801  |  5e-05 |   2.107441   |     -      |     -     |   9.51   \n",
      "   1    |   250  / 10801  |  5e-05 |   2.167109   |     -      |     -     |   9.86   \n",
      "   1    |   300  / 10801  |  5e-05 |   2.142150   |     -      |     -     |   9.76   \n",
      "   1    |   350  / 10801  |  5e-05 |   2.106351   |     -      |     -     |   9.89   \n",
      "   1    |   400  / 10801  |  5e-05 |   2.044989   |     -      |     -     |   10.08  \n",
      "   1    |   450  / 10801  |  5e-05 |   2.040657   |     -      |     -     |   10.07  \n",
      "   1    |   500  / 10801  |  5e-05 |   2.053548   |     -      |     -     |   9.65   \n",
      "   1    |   550  / 10801  |  5e-05 |   2.071611   |     -      |     -     |   9.32   \n",
      "   1    |   600  / 10801  |  5e-05 |   1.995664   |     -      |     -     |   9.24   \n",
      "   1    |   650  / 10801  |  5e-05 |   1.983654   |     -      |     -     |   9.34   \n",
      "   1    |   700  / 10801  |  5e-05 |   1.923409   |     -      |     -     |   9.30   \n",
      "   1    |   750  / 10801  |  5e-05 |   1.954271   |     -      |     -     |   10.84  \n",
      "   1    |   800  / 10801  |  5e-05 |   1.873836   |     -      |     -     |   9.88   \n",
      "   1    |   850  / 10801  |  5e-05 |   1.920319   |     -      |     -     |   9.92   \n",
      "   1    |   900  / 10801  |  5e-05 |   1.811838   |     -      |     -     |   9.95   \n",
      "   1    |   950  / 10801  |  5e-05 |   1.799657   |     -      |     -     |   9.80   \n",
      "   1    |  1000  / 10801  |  5e-05 |   1.787181   |     -      |     -     |   10.17  \n",
      "   1    |  1050  / 10801  |  5e-05 |   1.706893   |     -      |     -     |   9.66   \n",
      "   1    |  1100  / 10801  |  5e-05 |   1.596803   |     -      |     -     |   9.58   \n",
      "   1    |  1150  / 10801  |  5e-05 |   1.619069   |     -      |     -     |   9.87   \n",
      "   1    |  1200  / 10801  |  5e-05 |   1.521001   |     -      |     -     |   9.90   \n",
      "   1    |  1250  / 10801  |  5e-05 |   1.473604   |     -      |     -     |   10.05  \n",
      "   1    |  1300  / 10801  |  5e-05 |   1.552352   |     -      |     -     |   10.26  \n",
      "   1    |  1350  / 10801  |  5e-05 |   1.467528   |     -      |     -     |   10.27  \n",
      "   1    |  1400  / 10801  |  5e-05 |   1.439150   |     -      |     -     |   9.88   \n",
      "   1    |  1450  / 10801  |  5e-05 |   1.353960   |     -      |     -     |   10.13  \n",
      "   1    |  1500  / 10801  |  5e-05 |   1.353349   |     -      |     -     |   10.21  \n",
      "   1    |  1550  / 10801  |  5e-05 |   1.334232   |     -      |     -     |   9.63   \n",
      "   1    |  1600  / 10801  |  5e-05 |   1.236118   |     -      |     -     |   9.92   \n",
      "   1    |  1650  / 10801  |  5e-05 |   1.223125   |     -      |     -     |   10.04  \n",
      "   1    |  1700  / 10801  |  5e-05 |   1.307985   |     -      |     -     |   10.29  \n",
      "   1    |  1750  / 10801  | 4.99e-05|   1.196953   |     -      |     -     |   10.11  \n",
      "   1    |  1800  / 10801  | 4.99e-05|   1.161322   |     -      |     -     |   9.81   \n",
      "   1    |  1850  / 10801  | 4.99e-05|   1.112606   |     -      |     -     |   10.52  \n",
      "   1    |  1900  / 10801  | 4.99e-05|   1.095834   |     -      |     -     |   10.44  \n",
      "   1    |  1950  / 10801  | 4.99e-05|   1.042694   |     -      |     -     |   10.15  \n"
     ]
    }
   ],
   "source": [
    "%%time\n",
    "bert_classifier, optimizer, scheduler = initialize_model(epochs=5)\n",
    "train(bert_classifier, train_loader, test_loader, epochs=5, evaluation=True)"
   ]
  },
  {
   "cell_type": "code",
   "execution_count": null,
   "metadata": {},
   "outputs": [],
   "source": []
  }
 ],
 "metadata": {
  "kernelspec": {
   "display_name": "Python 3",
   "language": "python",
   "name": "python3"
  },
  "language_info": {
   "codemirror_mode": {
    "name": "ipython",
    "version": 3
   },
   "file_extension": ".py",
   "mimetype": "text/x-python",
   "name": "python",
   "nbconvert_exporter": "python",
   "pygments_lexer": "ipython3",
   "version": "3.6.8"
  }
 },
 "nbformat": 4,
 "nbformat_minor": 2
}
